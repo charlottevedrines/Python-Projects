{
  "cells": [
    {
      "cell_type": "markdown",
      "metadata": {
        "id": "view-in-github",
        "colab_type": "text"
      },
      "source": [
        "<a href=\"https://colab.research.google.com/github/charlottevedrines/Python-Projects/blob/main/Lab4_Data_Imputation.ipynb\" target=\"_parent\"><img src=\"https://colab.research.google.com/assets/colab-badge.svg\" alt=\"Open In Colab\"/></a>"
      ]
    },
    {
      "cell_type": "markdown",
      "metadata": {
        "id": "OhtOdxzd1ppr"
      },
      "source": [
        "# Lab 4: Data Imputation using an Autoencoder\n",
        "\n",
        "\n",
        "In this lab, you will build and train an autoencoder to impute (or \"fill in\") missing data.\n",
        "\n",
        "We will be using the\n",
        "Adult Data Set provided by the UCI Machine Learning Repository [1], available\n",
        "at https://archive.ics.uci.edu/ml/datasets/adult.\n",
        "The data set contains census record files of adults, including their\n",
        "age, martial status, the type of work they do, and other features.\n",
        "\n",
        "Normally, people use this data set to build a supervised classification\n",
        "model to classify whether a person is a high income earner.\n",
        "We will not use the dataset for this original intended purpose.\n",
        "\n",
        "Instead, we will perform the task of imputing (or \"filling in\") missing values in the dataset. For example,\n",
        "we may be missing one person's martial status, and another person's age, and\n",
        "a third person's level of education. Our model will predict the missing features\n",
        "based on the information that we do have about each person.\n",
        "\n",
        "We will use a variation of a denoising autoencoder to solve this data imputation\n",
        "problem. Our autoencoder will be trained using inputs that have one categorical feature artificially\n",
        "removed, and the goal of the autoencoder is to correctly reconstruct all features,\n",
        "including the one removed from the input.\n",
        "\n",
        "In the process, you are expected to learn to:\n",
        "\n",
        "1. Clean and process continuous and categorical data for machine learning.\n",
        "2. Implement an autoencoder that takes continuous and categorical (one-hot) inputs.\n",
        "3. Tune the hyperparameters of an autoencoder.\n",
        "4. Use baseline models to help interpret model performance.\n",
        "\n",
        "[1] Dua, D. and Karra Taniskidou, E. (2017). UCI Machine Learning Repository [http://archive.ics.uci.edu/ml]. Irvine, CA: University of California, School of Information and Computer Science.\n",
        "\n",
        "\n",
        "### What to submit\n",
        "\n",
        "Submit a PDF file containing all your code, outputs, and write-up. You can produce a PDF of your Google Colab file by going to File > Print and then save as PDF. The Colab instructions have more information.\n",
        "\n",
        "Do not submit any other files produced by your code.\n",
        "\n",
        "Include a link to your colab file in your submission.\n"
      ]
    },
    {
      "cell_type": "markdown",
      "metadata": {
        "id": "zbnrp2ig1pps"
      },
      "source": [
        "## Colab Link\n",
        "\n",
        "Include a link to your Colab file here. If you would like the TA to look at your\n",
        "Colab file in case your solutions are cut off, **please make sure that your Colab\n",
        "file is publicly accessible at the time of submission**.\n",
        "\n",
        "Colab Link: https://drive.google.com/file/d/1cF4Vb-Cnkn5myRA4bHdJI-H9sJGfOXgU/view?usp=sharing"
      ]
    },
    {
      "cell_type": "code",
      "execution_count": 1,
      "metadata": {
        "collapsed": true,
        "id": "z3p8N43E1ppt"
      },
      "outputs": [],
      "source": [
        "import csv\n",
        "import numpy as np\n",
        "import random\n",
        "import torch\n",
        "import torch.utils.data"
      ]
    },
    {
      "cell_type": "markdown",
      "metadata": {
        "id": "8ROwtHcz1ppx"
      },
      "source": [
        "## Part 0\n",
        "\n",
        "We will be using a package called `pandas` for this assignment.\n",
        "\n",
        "If you are using Colab, `pandas` should already be available.\n",
        "If you are using your own computer,\n",
        "installation instructions for `pandas` are available here:\n",
        "https://pandas.pydata.org/pandas-docs/stable/install.html"
      ]
    },
    {
      "cell_type": "code",
      "execution_count": 2,
      "metadata": {
        "collapsed": true,
        "id": "IXQ7BP151ppz"
      },
      "outputs": [],
      "source": [
        "import pandas as pd"
      ]
    },
    {
      "cell_type": "markdown",
      "metadata": {
        "id": "hqXihb4Q1pp2"
      },
      "source": [
        "# Part 1. Data Cleaning [15 pt]\n",
        "\n",
        "The adult.data file is available at `https://archive.ics.uci.edu/ml/machine-learning-databases/adult/adult.data`\n",
        "\n",
        "The function `pd.read_csv` loads the adult.data file into a pandas dataframe.\n",
        "You can read about the pandas documentation for `pd.read_csv` at\n",
        "https://pandas.pydata.org/pandas-docs/stable/reference/api/pandas.read_csv.html"
      ]
    },
    {
      "cell_type": "code",
      "execution_count": 3,
      "metadata": {
        "colab": {
          "base_uri": "https://localhost:8080/"
        },
        "collapsed": true,
        "id": "EOMItFKn1pp3",
        "outputId": "8636bcb8-c8fe-4657-d00d-59da4b98fa43"
      },
      "outputs": [
        {
          "output_type": "stream",
          "name": "stderr",
          "text": [
            "<ipython-input-3-037957db2593>:3: ParserWarning: Length of header or names does not match length of data. This leads to a loss of data with index_col=False.\n",
            "  df = pd.read_csv(\n"
          ]
        }
      ],
      "source": [
        "header = ['age', 'work', 'fnlwgt', 'edu', 'yredu', 'marriage', 'occupation',\n",
        " 'relationship', 'race', 'sex', 'capgain', 'caploss', 'workhr', 'country']\n",
        "df = pd.read_csv(\n",
        "    \"https://archive.ics.uci.edu/ml/machine-learning-databases/adult/adult.data\",\n",
        "    names=header,\n",
        "    index_col=False)"
      ]
    },
    {
      "cell_type": "code",
      "execution_count": 4,
      "metadata": {
        "colab": {
          "base_uri": "https://localhost:8080/"
        },
        "id": "62Ot405q1pp5",
        "outputId": "457c2187-f37f-4098-e910-254cd251365e",
        "scrolled": true
      },
      "outputs": [
        {
          "output_type": "execute_result",
          "data": {
            "text/plain": [
              "(32561, 14)"
            ]
          },
          "metadata": {},
          "execution_count": 4
        }
      ],
      "source": [
        "df.shape # there are 32561 rows (records) in the data frame, and 14 columns (features)"
      ]
    },
    {
      "cell_type": "markdown",
      "metadata": {
        "id": "Tr7YG-QY1pp8"
      },
      "source": [
        "### Part (a) Continuous Features [3 pt]\n",
        "\n",
        "For each of the columns `[\"age\", \"yredu\", \"capgain\", \"caploss\", \"workhr\"]`, report the minimum, maximum, and average value across the dataset.\n",
        "\n",
        "Then, normalize each of the features `[\"age\", \"yredu\", \"capgain\", \"caploss\", \"workhr\"]`\n",
        "so that their values are always between 0 and 1.\n",
        "Make sure that you are actually modifying the dataframe `df`.\n",
        "\n",
        "Like numpy arrays and torch tensors,\n",
        "pandas data frames can be sliced. For example, we can\n",
        "display the first 3 rows of the data frame (3 records) below."
      ]
    },
    {
      "cell_type": "code",
      "execution_count": 5,
      "metadata": {
        "colab": {
          "base_uri": "https://localhost:8080/",
          "height": 195
        },
        "id": "9evSLsSa1pp9",
        "outputId": "58c307a0-26ab-447d-a0d8-cfb08e0714ff"
      },
      "outputs": [
        {
          "output_type": "execute_result",
          "data": {
            "text/plain": [
              "   age               work  fnlwgt         edu  yredu             marriage  \\\n",
              "0   39          State-gov   77516   Bachelors     13        Never-married   \n",
              "1   50   Self-emp-not-inc   83311   Bachelors     13   Married-civ-spouse   \n",
              "2   38            Private  215646     HS-grad      9             Divorced   \n",
              "\n",
              "           occupation    relationship    race    sex  capgain  caploss  \\\n",
              "0        Adm-clerical   Not-in-family   White   Male     2174        0   \n",
              "1     Exec-managerial         Husband   White   Male        0        0   \n",
              "2   Handlers-cleaners   Not-in-family   White   Male        0        0   \n",
              "\n",
              "   workhr         country  \n",
              "0      40   United-States  \n",
              "1      13   United-States  \n",
              "2      40   United-States  "
            ],
            "text/html": [
              "\n",
              "  <div id=\"df-58907d52-cb05-4453-b62b-fcf3c9d2d567\" class=\"colab-df-container\">\n",
              "    <div>\n",
              "<style scoped>\n",
              "    .dataframe tbody tr th:only-of-type {\n",
              "        vertical-align: middle;\n",
              "    }\n",
              "\n",
              "    .dataframe tbody tr th {\n",
              "        vertical-align: top;\n",
              "    }\n",
              "\n",
              "    .dataframe thead th {\n",
              "        text-align: right;\n",
              "    }\n",
              "</style>\n",
              "<table border=\"1\" class=\"dataframe\">\n",
              "  <thead>\n",
              "    <tr style=\"text-align: right;\">\n",
              "      <th></th>\n",
              "      <th>age</th>\n",
              "      <th>work</th>\n",
              "      <th>fnlwgt</th>\n",
              "      <th>edu</th>\n",
              "      <th>yredu</th>\n",
              "      <th>marriage</th>\n",
              "      <th>occupation</th>\n",
              "      <th>relationship</th>\n",
              "      <th>race</th>\n",
              "      <th>sex</th>\n",
              "      <th>capgain</th>\n",
              "      <th>caploss</th>\n",
              "      <th>workhr</th>\n",
              "      <th>country</th>\n",
              "    </tr>\n",
              "  </thead>\n",
              "  <tbody>\n",
              "    <tr>\n",
              "      <th>0</th>\n",
              "      <td>39</td>\n",
              "      <td>State-gov</td>\n",
              "      <td>77516</td>\n",
              "      <td>Bachelors</td>\n",
              "      <td>13</td>\n",
              "      <td>Never-married</td>\n",
              "      <td>Adm-clerical</td>\n",
              "      <td>Not-in-family</td>\n",
              "      <td>White</td>\n",
              "      <td>Male</td>\n",
              "      <td>2174</td>\n",
              "      <td>0</td>\n",
              "      <td>40</td>\n",
              "      <td>United-States</td>\n",
              "    </tr>\n",
              "    <tr>\n",
              "      <th>1</th>\n",
              "      <td>50</td>\n",
              "      <td>Self-emp-not-inc</td>\n",
              "      <td>83311</td>\n",
              "      <td>Bachelors</td>\n",
              "      <td>13</td>\n",
              "      <td>Married-civ-spouse</td>\n",
              "      <td>Exec-managerial</td>\n",
              "      <td>Husband</td>\n",
              "      <td>White</td>\n",
              "      <td>Male</td>\n",
              "      <td>0</td>\n",
              "      <td>0</td>\n",
              "      <td>13</td>\n",
              "      <td>United-States</td>\n",
              "    </tr>\n",
              "    <tr>\n",
              "      <th>2</th>\n",
              "      <td>38</td>\n",
              "      <td>Private</td>\n",
              "      <td>215646</td>\n",
              "      <td>HS-grad</td>\n",
              "      <td>9</td>\n",
              "      <td>Divorced</td>\n",
              "      <td>Handlers-cleaners</td>\n",
              "      <td>Not-in-family</td>\n",
              "      <td>White</td>\n",
              "      <td>Male</td>\n",
              "      <td>0</td>\n",
              "      <td>0</td>\n",
              "      <td>40</td>\n",
              "      <td>United-States</td>\n",
              "    </tr>\n",
              "  </tbody>\n",
              "</table>\n",
              "</div>\n",
              "    <div class=\"colab-df-buttons\">\n",
              "\n",
              "  <div class=\"colab-df-container\">\n",
              "    <button class=\"colab-df-convert\" onclick=\"convertToInteractive('df-58907d52-cb05-4453-b62b-fcf3c9d2d567')\"\n",
              "            title=\"Convert this dataframe to an interactive table.\"\n",
              "            style=\"display:none;\">\n",
              "\n",
              "  <svg xmlns=\"http://www.w3.org/2000/svg\" height=\"24px\" viewBox=\"0 -960 960 960\">\n",
              "    <path d=\"M120-120v-720h720v720H120Zm60-500h600v-160H180v160Zm220 220h160v-160H400v160Zm0 220h160v-160H400v160ZM180-400h160v-160H180v160Zm440 0h160v-160H620v160ZM180-180h160v-160H180v160Zm440 0h160v-160H620v160Z\"/>\n",
              "  </svg>\n",
              "    </button>\n",
              "\n",
              "  <style>\n",
              "    .colab-df-container {\n",
              "      display:flex;\n",
              "      gap: 12px;\n",
              "    }\n",
              "\n",
              "    .colab-df-convert {\n",
              "      background-color: #E8F0FE;\n",
              "      border: none;\n",
              "      border-radius: 50%;\n",
              "      cursor: pointer;\n",
              "      display: none;\n",
              "      fill: #1967D2;\n",
              "      height: 32px;\n",
              "      padding: 0 0 0 0;\n",
              "      width: 32px;\n",
              "    }\n",
              "\n",
              "    .colab-df-convert:hover {\n",
              "      background-color: #E2EBFA;\n",
              "      box-shadow: 0px 1px 2px rgba(60, 64, 67, 0.3), 0px 1px 3px 1px rgba(60, 64, 67, 0.15);\n",
              "      fill: #174EA6;\n",
              "    }\n",
              "\n",
              "    .colab-df-buttons div {\n",
              "      margin-bottom: 4px;\n",
              "    }\n",
              "\n",
              "    [theme=dark] .colab-df-convert {\n",
              "      background-color: #3B4455;\n",
              "      fill: #D2E3FC;\n",
              "    }\n",
              "\n",
              "    [theme=dark] .colab-df-convert:hover {\n",
              "      background-color: #434B5C;\n",
              "      box-shadow: 0px 1px 3px 1px rgba(0, 0, 0, 0.15);\n",
              "      filter: drop-shadow(0px 1px 2px rgba(0, 0, 0, 0.3));\n",
              "      fill: #FFFFFF;\n",
              "    }\n",
              "  </style>\n",
              "\n",
              "    <script>\n",
              "      const buttonEl =\n",
              "        document.querySelector('#df-58907d52-cb05-4453-b62b-fcf3c9d2d567 button.colab-df-convert');\n",
              "      buttonEl.style.display =\n",
              "        google.colab.kernel.accessAllowed ? 'block' : 'none';\n",
              "\n",
              "      async function convertToInteractive(key) {\n",
              "        const element = document.querySelector('#df-58907d52-cb05-4453-b62b-fcf3c9d2d567');\n",
              "        const dataTable =\n",
              "          await google.colab.kernel.invokeFunction('convertToInteractive',\n",
              "                                                    [key], {});\n",
              "        if (!dataTable) return;\n",
              "\n",
              "        const docLinkHtml = 'Like what you see? Visit the ' +\n",
              "          '<a target=\"_blank\" href=https://colab.research.google.com/notebooks/data_table.ipynb>data table notebook</a>'\n",
              "          + ' to learn more about interactive tables.';\n",
              "        element.innerHTML = '';\n",
              "        dataTable['output_type'] = 'display_data';\n",
              "        await google.colab.output.renderOutput(dataTable, element);\n",
              "        const docLink = document.createElement('div');\n",
              "        docLink.innerHTML = docLinkHtml;\n",
              "        element.appendChild(docLink);\n",
              "      }\n",
              "    </script>\n",
              "  </div>\n",
              "\n",
              "\n",
              "<div id=\"df-0e9b96b4-4e07-419a-ab52-e3cb0ea709a8\">\n",
              "  <button class=\"colab-df-quickchart\" onclick=\"quickchart('df-0e9b96b4-4e07-419a-ab52-e3cb0ea709a8')\"\n",
              "            title=\"Suggest charts\"\n",
              "            style=\"display:none;\">\n",
              "\n",
              "<svg xmlns=\"http://www.w3.org/2000/svg\" height=\"24px\"viewBox=\"0 0 24 24\"\n",
              "     width=\"24px\">\n",
              "    <g>\n",
              "        <path d=\"M19 3H5c-1.1 0-2 .9-2 2v14c0 1.1.9 2 2 2h14c1.1 0 2-.9 2-2V5c0-1.1-.9-2-2-2zM9 17H7v-7h2v7zm4 0h-2V7h2v10zm4 0h-2v-4h2v4z\"/>\n",
              "    </g>\n",
              "</svg>\n",
              "  </button>\n",
              "\n",
              "<style>\n",
              "  .colab-df-quickchart {\n",
              "      --bg-color: #E8F0FE;\n",
              "      --fill-color: #1967D2;\n",
              "      --hover-bg-color: #E2EBFA;\n",
              "      --hover-fill-color: #174EA6;\n",
              "      --disabled-fill-color: #AAA;\n",
              "      --disabled-bg-color: #DDD;\n",
              "  }\n",
              "\n",
              "  [theme=dark] .colab-df-quickchart {\n",
              "      --bg-color: #3B4455;\n",
              "      --fill-color: #D2E3FC;\n",
              "      --hover-bg-color: #434B5C;\n",
              "      --hover-fill-color: #FFFFFF;\n",
              "      --disabled-bg-color: #3B4455;\n",
              "      --disabled-fill-color: #666;\n",
              "  }\n",
              "\n",
              "  .colab-df-quickchart {\n",
              "    background-color: var(--bg-color);\n",
              "    border: none;\n",
              "    border-radius: 50%;\n",
              "    cursor: pointer;\n",
              "    display: none;\n",
              "    fill: var(--fill-color);\n",
              "    height: 32px;\n",
              "    padding: 0;\n",
              "    width: 32px;\n",
              "  }\n",
              "\n",
              "  .colab-df-quickchart:hover {\n",
              "    background-color: var(--hover-bg-color);\n",
              "    box-shadow: 0 1px 2px rgba(60, 64, 67, 0.3), 0 1px 3px 1px rgba(60, 64, 67, 0.15);\n",
              "    fill: var(--button-hover-fill-color);\n",
              "  }\n",
              "\n",
              "  .colab-df-quickchart-complete:disabled,\n",
              "  .colab-df-quickchart-complete:disabled:hover {\n",
              "    background-color: var(--disabled-bg-color);\n",
              "    fill: var(--disabled-fill-color);\n",
              "    box-shadow: none;\n",
              "  }\n",
              "\n",
              "  .colab-df-spinner {\n",
              "    border: 2px solid var(--fill-color);\n",
              "    border-color: transparent;\n",
              "    border-bottom-color: var(--fill-color);\n",
              "    animation:\n",
              "      spin 1s steps(1) infinite;\n",
              "  }\n",
              "\n",
              "  @keyframes spin {\n",
              "    0% {\n",
              "      border-color: transparent;\n",
              "      border-bottom-color: var(--fill-color);\n",
              "      border-left-color: var(--fill-color);\n",
              "    }\n",
              "    20% {\n",
              "      border-color: transparent;\n",
              "      border-left-color: var(--fill-color);\n",
              "      border-top-color: var(--fill-color);\n",
              "    }\n",
              "    30% {\n",
              "      border-color: transparent;\n",
              "      border-left-color: var(--fill-color);\n",
              "      border-top-color: var(--fill-color);\n",
              "      border-right-color: var(--fill-color);\n",
              "    }\n",
              "    40% {\n",
              "      border-color: transparent;\n",
              "      border-right-color: var(--fill-color);\n",
              "      border-top-color: var(--fill-color);\n",
              "    }\n",
              "    60% {\n",
              "      border-color: transparent;\n",
              "      border-right-color: var(--fill-color);\n",
              "    }\n",
              "    80% {\n",
              "      border-color: transparent;\n",
              "      border-right-color: var(--fill-color);\n",
              "      border-bottom-color: var(--fill-color);\n",
              "    }\n",
              "    90% {\n",
              "      border-color: transparent;\n",
              "      border-bottom-color: var(--fill-color);\n",
              "    }\n",
              "  }\n",
              "</style>\n",
              "\n",
              "  <script>\n",
              "    async function quickchart(key) {\n",
              "      const quickchartButtonEl =\n",
              "        document.querySelector('#' + key + ' button');\n",
              "      quickchartButtonEl.disabled = true;  // To prevent multiple clicks.\n",
              "      quickchartButtonEl.classList.add('colab-df-spinner');\n",
              "      try {\n",
              "        const charts = await google.colab.kernel.invokeFunction(\n",
              "            'suggestCharts', [key], {});\n",
              "      } catch (error) {\n",
              "        console.error('Error during call to suggestCharts:', error);\n",
              "      }\n",
              "      quickchartButtonEl.classList.remove('colab-df-spinner');\n",
              "      quickchartButtonEl.classList.add('colab-df-quickchart-complete');\n",
              "    }\n",
              "    (() => {\n",
              "      let quickchartButtonEl =\n",
              "        document.querySelector('#df-0e9b96b4-4e07-419a-ab52-e3cb0ea709a8 button');\n",
              "      quickchartButtonEl.style.display =\n",
              "        google.colab.kernel.accessAllowed ? 'block' : 'none';\n",
              "    })();\n",
              "  </script>\n",
              "</div>\n",
              "\n",
              "    </div>\n",
              "  </div>\n"
            ],
            "application/vnd.google.colaboratory.intrinsic+json": {
              "type": "dataframe",
              "summary": "{\n  \"name\": \"df[:3] # show the first 3 records\",\n  \"rows\": 3,\n  \"fields\": [\n    {\n      \"column\": \"age\",\n      \"properties\": {\n        \"dtype\": \"number\",\n        \"std\": 6,\n        \"min\": 38,\n        \"max\": 50,\n        \"num_unique_values\": 3,\n        \"samples\": [\n          39,\n          50,\n          38\n        ],\n        \"semantic_type\": \"\",\n        \"description\": \"\"\n      }\n    },\n    {\n      \"column\": \"work\",\n      \"properties\": {\n        \"dtype\": \"string\",\n        \"num_unique_values\": 3,\n        \"samples\": [\n          \" State-gov\",\n          \" Self-emp-not-inc\",\n          \" Private\"\n        ],\n        \"semantic_type\": \"\",\n        \"description\": \"\"\n      }\n    },\n    {\n      \"column\": \"fnlwgt\",\n      \"properties\": {\n        \"dtype\": \"number\",\n        \"std\": 78130,\n        \"min\": 77516,\n        \"max\": 215646,\n        \"num_unique_values\": 3,\n        \"samples\": [\n          77516,\n          83311,\n          215646\n        ],\n        \"semantic_type\": \"\",\n        \"description\": \"\"\n      }\n    },\n    {\n      \"column\": \"edu\",\n      \"properties\": {\n        \"dtype\": \"string\",\n        \"num_unique_values\": 2,\n        \"samples\": [\n          \" HS-grad\",\n          \" Bachelors\"\n        ],\n        \"semantic_type\": \"\",\n        \"description\": \"\"\n      }\n    },\n    {\n      \"column\": \"yredu\",\n      \"properties\": {\n        \"dtype\": \"number\",\n        \"std\": 2,\n        \"min\": 9,\n        \"max\": 13,\n        \"num_unique_values\": 2,\n        \"samples\": [\n          9,\n          13\n        ],\n        \"semantic_type\": \"\",\n        \"description\": \"\"\n      }\n    },\n    {\n      \"column\": \"marriage\",\n      \"properties\": {\n        \"dtype\": \"string\",\n        \"num_unique_values\": 3,\n        \"samples\": [\n          \" Never-married\",\n          \" Married-civ-spouse\"\n        ],\n        \"semantic_type\": \"\",\n        \"description\": \"\"\n      }\n    },\n    {\n      \"column\": \"occupation\",\n      \"properties\": {\n        \"dtype\": \"string\",\n        \"num_unique_values\": 3,\n        \"samples\": [\n          \" Adm-clerical\",\n          \" Exec-managerial\"\n        ],\n        \"semantic_type\": \"\",\n        \"description\": \"\"\n      }\n    },\n    {\n      \"column\": \"relationship\",\n      \"properties\": {\n        \"dtype\": \"string\",\n        \"num_unique_values\": 2,\n        \"samples\": [\n          \" Husband\",\n          \" Not-in-family\"\n        ],\n        \"semantic_type\": \"\",\n        \"description\": \"\"\n      }\n    },\n    {\n      \"column\": \"race\",\n      \"properties\": {\n        \"dtype\": \"category\",\n        \"num_unique_values\": 1,\n        \"samples\": [\n          \" White\"\n        ],\n        \"semantic_type\": \"\",\n        \"description\": \"\"\n      }\n    },\n    {\n      \"column\": \"sex\",\n      \"properties\": {\n        \"dtype\": \"category\",\n        \"num_unique_values\": 1,\n        \"samples\": [\n          \" Male\"\n        ],\n        \"semantic_type\": \"\",\n        \"description\": \"\"\n      }\n    },\n    {\n      \"column\": \"capgain\",\n      \"properties\": {\n        \"dtype\": \"number\",\n        \"std\": 1255,\n        \"min\": 0,\n        \"max\": 2174,\n        \"num_unique_values\": 2,\n        \"samples\": [\n          0\n        ],\n        \"semantic_type\": \"\",\n        \"description\": \"\"\n      }\n    },\n    {\n      \"column\": \"caploss\",\n      \"properties\": {\n        \"dtype\": \"number\",\n        \"std\": 0,\n        \"min\": 0,\n        \"max\": 0,\n        \"num_unique_values\": 1,\n        \"samples\": [\n          0\n        ],\n        \"semantic_type\": \"\",\n        \"description\": \"\"\n      }\n    },\n    {\n      \"column\": \"workhr\",\n      \"properties\": {\n        \"dtype\": \"number\",\n        \"std\": 15,\n        \"min\": 13,\n        \"max\": 40,\n        \"num_unique_values\": 2,\n        \"samples\": [\n          13\n        ],\n        \"semantic_type\": \"\",\n        \"description\": \"\"\n      }\n    },\n    {\n      \"column\": \"country\",\n      \"properties\": {\n        \"dtype\": \"category\",\n        \"num_unique_values\": 1,\n        \"samples\": [\n          \" United-States\"\n        ],\n        \"semantic_type\": \"\",\n        \"description\": \"\"\n      }\n    }\n  ]\n}"
            }
          },
          "metadata": {},
          "execution_count": 5
        }
      ],
      "source": [
        "df[:3] # show the first 3 records"
      ]
    },
    {
      "cell_type": "markdown",
      "metadata": {
        "id": "gBOojI6W1pqA"
      },
      "source": [
        "Alternatively, we can slice based on column names,\n",
        "for example `df[\"race\"]`, `df[\"hr\"]`, or even index multiple columns\n",
        "like below."
      ]
    },
    {
      "cell_type": "code",
      "execution_count": 6,
      "metadata": {
        "colab": {
          "base_uri": "https://localhost:8080/",
          "height": 143
        },
        "id": "4v6pp73A1pqB",
        "outputId": "d93b58c3-2255-405e-9644-0b74351ec094"
      },
      "outputs": [
        {
          "output_type": "execute_result",
          "data": {
            "text/plain": [
              "   age  yredu  capgain  caploss  workhr\n",
              "0   39     13     2174        0      40\n",
              "1   50     13        0        0      13\n",
              "2   38      9        0        0      40"
            ],
            "text/html": [
              "\n",
              "  <div id=\"df-f891f970-771b-4479-9fac-afbeeecf3948\" class=\"colab-df-container\">\n",
              "    <div>\n",
              "<style scoped>\n",
              "    .dataframe tbody tr th:only-of-type {\n",
              "        vertical-align: middle;\n",
              "    }\n",
              "\n",
              "    .dataframe tbody tr th {\n",
              "        vertical-align: top;\n",
              "    }\n",
              "\n",
              "    .dataframe thead th {\n",
              "        text-align: right;\n",
              "    }\n",
              "</style>\n",
              "<table border=\"1\" class=\"dataframe\">\n",
              "  <thead>\n",
              "    <tr style=\"text-align: right;\">\n",
              "      <th></th>\n",
              "      <th>age</th>\n",
              "      <th>yredu</th>\n",
              "      <th>capgain</th>\n",
              "      <th>caploss</th>\n",
              "      <th>workhr</th>\n",
              "    </tr>\n",
              "  </thead>\n",
              "  <tbody>\n",
              "    <tr>\n",
              "      <th>0</th>\n",
              "      <td>39</td>\n",
              "      <td>13</td>\n",
              "      <td>2174</td>\n",
              "      <td>0</td>\n",
              "      <td>40</td>\n",
              "    </tr>\n",
              "    <tr>\n",
              "      <th>1</th>\n",
              "      <td>50</td>\n",
              "      <td>13</td>\n",
              "      <td>0</td>\n",
              "      <td>0</td>\n",
              "      <td>13</td>\n",
              "    </tr>\n",
              "    <tr>\n",
              "      <th>2</th>\n",
              "      <td>38</td>\n",
              "      <td>9</td>\n",
              "      <td>0</td>\n",
              "      <td>0</td>\n",
              "      <td>40</td>\n",
              "    </tr>\n",
              "  </tbody>\n",
              "</table>\n",
              "</div>\n",
              "    <div class=\"colab-df-buttons\">\n",
              "\n",
              "  <div class=\"colab-df-container\">\n",
              "    <button class=\"colab-df-convert\" onclick=\"convertToInteractive('df-f891f970-771b-4479-9fac-afbeeecf3948')\"\n",
              "            title=\"Convert this dataframe to an interactive table.\"\n",
              "            style=\"display:none;\">\n",
              "\n",
              "  <svg xmlns=\"http://www.w3.org/2000/svg\" height=\"24px\" viewBox=\"0 -960 960 960\">\n",
              "    <path d=\"M120-120v-720h720v720H120Zm60-500h600v-160H180v160Zm220 220h160v-160H400v160Zm0 220h160v-160H400v160ZM180-400h160v-160H180v160Zm440 0h160v-160H620v160ZM180-180h160v-160H180v160Zm440 0h160v-160H620v160Z\"/>\n",
              "  </svg>\n",
              "    </button>\n",
              "\n",
              "  <style>\n",
              "    .colab-df-container {\n",
              "      display:flex;\n",
              "      gap: 12px;\n",
              "    }\n",
              "\n",
              "    .colab-df-convert {\n",
              "      background-color: #E8F0FE;\n",
              "      border: none;\n",
              "      border-radius: 50%;\n",
              "      cursor: pointer;\n",
              "      display: none;\n",
              "      fill: #1967D2;\n",
              "      height: 32px;\n",
              "      padding: 0 0 0 0;\n",
              "      width: 32px;\n",
              "    }\n",
              "\n",
              "    .colab-df-convert:hover {\n",
              "      background-color: #E2EBFA;\n",
              "      box-shadow: 0px 1px 2px rgba(60, 64, 67, 0.3), 0px 1px 3px 1px rgba(60, 64, 67, 0.15);\n",
              "      fill: #174EA6;\n",
              "    }\n",
              "\n",
              "    .colab-df-buttons div {\n",
              "      margin-bottom: 4px;\n",
              "    }\n",
              "\n",
              "    [theme=dark] .colab-df-convert {\n",
              "      background-color: #3B4455;\n",
              "      fill: #D2E3FC;\n",
              "    }\n",
              "\n",
              "    [theme=dark] .colab-df-convert:hover {\n",
              "      background-color: #434B5C;\n",
              "      box-shadow: 0px 1px 3px 1px rgba(0, 0, 0, 0.15);\n",
              "      filter: drop-shadow(0px 1px 2px rgba(0, 0, 0, 0.3));\n",
              "      fill: #FFFFFF;\n",
              "    }\n",
              "  </style>\n",
              "\n",
              "    <script>\n",
              "      const buttonEl =\n",
              "        document.querySelector('#df-f891f970-771b-4479-9fac-afbeeecf3948 button.colab-df-convert');\n",
              "      buttonEl.style.display =\n",
              "        google.colab.kernel.accessAllowed ? 'block' : 'none';\n",
              "\n",
              "      async function convertToInteractive(key) {\n",
              "        const element = document.querySelector('#df-f891f970-771b-4479-9fac-afbeeecf3948');\n",
              "        const dataTable =\n",
              "          await google.colab.kernel.invokeFunction('convertToInteractive',\n",
              "                                                    [key], {});\n",
              "        if (!dataTable) return;\n",
              "\n",
              "        const docLinkHtml = 'Like what you see? Visit the ' +\n",
              "          '<a target=\"_blank\" href=https://colab.research.google.com/notebooks/data_table.ipynb>data table notebook</a>'\n",
              "          + ' to learn more about interactive tables.';\n",
              "        element.innerHTML = '';\n",
              "        dataTable['output_type'] = 'display_data';\n",
              "        await google.colab.output.renderOutput(dataTable, element);\n",
              "        const docLink = document.createElement('div');\n",
              "        docLink.innerHTML = docLinkHtml;\n",
              "        element.appendChild(docLink);\n",
              "      }\n",
              "    </script>\n",
              "  </div>\n",
              "\n",
              "\n",
              "<div id=\"df-cb52cd76-f098-4cdc-8849-56c43b39af93\">\n",
              "  <button class=\"colab-df-quickchart\" onclick=\"quickchart('df-cb52cd76-f098-4cdc-8849-56c43b39af93')\"\n",
              "            title=\"Suggest charts\"\n",
              "            style=\"display:none;\">\n",
              "\n",
              "<svg xmlns=\"http://www.w3.org/2000/svg\" height=\"24px\"viewBox=\"0 0 24 24\"\n",
              "     width=\"24px\">\n",
              "    <g>\n",
              "        <path d=\"M19 3H5c-1.1 0-2 .9-2 2v14c0 1.1.9 2 2 2h14c1.1 0 2-.9 2-2V5c0-1.1-.9-2-2-2zM9 17H7v-7h2v7zm4 0h-2V7h2v10zm4 0h-2v-4h2v4z\"/>\n",
              "    </g>\n",
              "</svg>\n",
              "  </button>\n",
              "\n",
              "<style>\n",
              "  .colab-df-quickchart {\n",
              "      --bg-color: #E8F0FE;\n",
              "      --fill-color: #1967D2;\n",
              "      --hover-bg-color: #E2EBFA;\n",
              "      --hover-fill-color: #174EA6;\n",
              "      --disabled-fill-color: #AAA;\n",
              "      --disabled-bg-color: #DDD;\n",
              "  }\n",
              "\n",
              "  [theme=dark] .colab-df-quickchart {\n",
              "      --bg-color: #3B4455;\n",
              "      --fill-color: #D2E3FC;\n",
              "      --hover-bg-color: #434B5C;\n",
              "      --hover-fill-color: #FFFFFF;\n",
              "      --disabled-bg-color: #3B4455;\n",
              "      --disabled-fill-color: #666;\n",
              "  }\n",
              "\n",
              "  .colab-df-quickchart {\n",
              "    background-color: var(--bg-color);\n",
              "    border: none;\n",
              "    border-radius: 50%;\n",
              "    cursor: pointer;\n",
              "    display: none;\n",
              "    fill: var(--fill-color);\n",
              "    height: 32px;\n",
              "    padding: 0;\n",
              "    width: 32px;\n",
              "  }\n",
              "\n",
              "  .colab-df-quickchart:hover {\n",
              "    background-color: var(--hover-bg-color);\n",
              "    box-shadow: 0 1px 2px rgba(60, 64, 67, 0.3), 0 1px 3px 1px rgba(60, 64, 67, 0.15);\n",
              "    fill: var(--button-hover-fill-color);\n",
              "  }\n",
              "\n",
              "  .colab-df-quickchart-complete:disabled,\n",
              "  .colab-df-quickchart-complete:disabled:hover {\n",
              "    background-color: var(--disabled-bg-color);\n",
              "    fill: var(--disabled-fill-color);\n",
              "    box-shadow: none;\n",
              "  }\n",
              "\n",
              "  .colab-df-spinner {\n",
              "    border: 2px solid var(--fill-color);\n",
              "    border-color: transparent;\n",
              "    border-bottom-color: var(--fill-color);\n",
              "    animation:\n",
              "      spin 1s steps(1) infinite;\n",
              "  }\n",
              "\n",
              "  @keyframes spin {\n",
              "    0% {\n",
              "      border-color: transparent;\n",
              "      border-bottom-color: var(--fill-color);\n",
              "      border-left-color: var(--fill-color);\n",
              "    }\n",
              "    20% {\n",
              "      border-color: transparent;\n",
              "      border-left-color: var(--fill-color);\n",
              "      border-top-color: var(--fill-color);\n",
              "    }\n",
              "    30% {\n",
              "      border-color: transparent;\n",
              "      border-left-color: var(--fill-color);\n",
              "      border-top-color: var(--fill-color);\n",
              "      border-right-color: var(--fill-color);\n",
              "    }\n",
              "    40% {\n",
              "      border-color: transparent;\n",
              "      border-right-color: var(--fill-color);\n",
              "      border-top-color: var(--fill-color);\n",
              "    }\n",
              "    60% {\n",
              "      border-color: transparent;\n",
              "      border-right-color: var(--fill-color);\n",
              "    }\n",
              "    80% {\n",
              "      border-color: transparent;\n",
              "      border-right-color: var(--fill-color);\n",
              "      border-bottom-color: var(--fill-color);\n",
              "    }\n",
              "    90% {\n",
              "      border-color: transparent;\n",
              "      border-bottom-color: var(--fill-color);\n",
              "    }\n",
              "  }\n",
              "</style>\n",
              "\n",
              "  <script>\n",
              "    async function quickchart(key) {\n",
              "      const quickchartButtonEl =\n",
              "        document.querySelector('#' + key + ' button');\n",
              "      quickchartButtonEl.disabled = true;  // To prevent multiple clicks.\n",
              "      quickchartButtonEl.classList.add('colab-df-spinner');\n",
              "      try {\n",
              "        const charts = await google.colab.kernel.invokeFunction(\n",
              "            'suggestCharts', [key], {});\n",
              "      } catch (error) {\n",
              "        console.error('Error during call to suggestCharts:', error);\n",
              "      }\n",
              "      quickchartButtonEl.classList.remove('colab-df-spinner');\n",
              "      quickchartButtonEl.classList.add('colab-df-quickchart-complete');\n",
              "    }\n",
              "    (() => {\n",
              "      let quickchartButtonEl =\n",
              "        document.querySelector('#df-cb52cd76-f098-4cdc-8849-56c43b39af93 button');\n",
              "      quickchartButtonEl.style.display =\n",
              "        google.colab.kernel.accessAllowed ? 'block' : 'none';\n",
              "    })();\n",
              "  </script>\n",
              "</div>\n",
              "\n",
              "    </div>\n",
              "  </div>\n"
            ],
            "application/vnd.google.colaboratory.intrinsic+json": {
              "type": "dataframe",
              "summary": "{\n  \"name\": \"subdf[:3] # show the first 3 records\",\n  \"rows\": 3,\n  \"fields\": [\n    {\n      \"column\": \"age\",\n      \"properties\": {\n        \"dtype\": \"number\",\n        \"std\": 6,\n        \"min\": 38,\n        \"max\": 50,\n        \"num_unique_values\": 3,\n        \"samples\": [\n          39,\n          50,\n          38\n        ],\n        \"semantic_type\": \"\",\n        \"description\": \"\"\n      }\n    },\n    {\n      \"column\": \"yredu\",\n      \"properties\": {\n        \"dtype\": \"number\",\n        \"std\": 2,\n        \"min\": 9,\n        \"max\": 13,\n        \"num_unique_values\": 2,\n        \"samples\": [\n          9,\n          13\n        ],\n        \"semantic_type\": \"\",\n        \"description\": \"\"\n      }\n    },\n    {\n      \"column\": \"capgain\",\n      \"properties\": {\n        \"dtype\": \"number\",\n        \"std\": 1255,\n        \"min\": 0,\n        \"max\": 2174,\n        \"num_unique_values\": 2,\n        \"samples\": [\n          0,\n          2174\n        ],\n        \"semantic_type\": \"\",\n        \"description\": \"\"\n      }\n    },\n    {\n      \"column\": \"caploss\",\n      \"properties\": {\n        \"dtype\": \"number\",\n        \"std\": 0,\n        \"min\": 0,\n        \"max\": 0,\n        \"num_unique_values\": 1,\n        \"samples\": [\n          0\n        ],\n        \"semantic_type\": \"\",\n        \"description\": \"\"\n      }\n    },\n    {\n      \"column\": \"workhr\",\n      \"properties\": {\n        \"dtype\": \"number\",\n        \"std\": 15,\n        \"min\": 13,\n        \"max\": 40,\n        \"num_unique_values\": 2,\n        \"samples\": [\n          13\n        ],\n        \"semantic_type\": \"\",\n        \"description\": \"\"\n      }\n    }\n  ]\n}"
            }
          },
          "metadata": {},
          "execution_count": 6
        }
      ],
      "source": [
        "subdf = df[[\"age\", \"yredu\", \"capgain\", \"caploss\", \"workhr\"]]\n",
        "subdf[:3] # show the first 3 records"
      ]
    },
    {
      "cell_type": "markdown",
      "metadata": {
        "id": "2Nru2P0E1pqD"
      },
      "source": [
        "Numpy works nicely with pandas, like below:"
      ]
    },
    {
      "cell_type": "code",
      "execution_count": 7,
      "metadata": {
        "colab": {
          "base_uri": "https://localhost:8080/"
        },
        "id": "JXrS6tjp1pqE",
        "outputId": "3b8af81f-e4c8-4145-ef91-d3a10988a4de"
      },
      "outputs": [
        {
          "output_type": "execute_result",
          "data": {
            "text/plain": [
              "2842700"
            ]
          },
          "metadata": {},
          "execution_count": 7
        }
      ],
      "source": [
        "np.sum(subdf[\"caploss\"])"
      ]
    },
    {
      "cell_type": "markdown",
      "metadata": {
        "id": "Mv5mbxDM1pqH"
      },
      "source": [
        "Just like numpy arrays, you can modify\n",
        "entire columns of data rather than one scalar element at a time.\n",
        "For example, the code  \n",
        "\n",
        "`df[\"age\"] = df[\"age\"] + 1`\n",
        "\n",
        "would increment everyone's age by 1."
      ]
    },
    {
      "cell_type": "code",
      "execution_count": 8,
      "metadata": {
        "colab": {
          "base_uri": "https://localhost:8080/"
        },
        "collapsed": true,
        "id": "k5rlWD7-1pqH",
        "outputId": "8b70b4ce-cd39-473c-a769-1ce1ccc4ace3"
      },
      "outputs": [
        {
          "output_type": "stream",
          "name": "stdout",
          "text": [
            "Minimum value in the age column: 17 maximum value: 90 average value: 38.58\n",
            "Minimum value in the yredu column: 1 maximum value: 16 average value: 10.08\n",
            "Minimum value in the capgain column: 0 maximum value: 99999 average value: 1077.65\n",
            "Minimum value in the caploss column: 0 maximum value: 4356 average value: 87.3\n",
            "Minimum value in the workhr column: 1 maximum value: 99 average value: 40.44\n"
          ]
        }
      ],
      "source": [
        "# 1. For each of the columns [\"age\", \"yredu\", \"capgain\", \"caploss\", \"workhr\"], report the minimum, maximum, and average value across the dataset.\n",
        "print(\"Minimum value in the age column:\", subdf[\"age\"].min(), \"maximum value:\",subdf[\"age\"].max(), \"average value:\",round(np.average(subdf[\"age\"]),2))\n",
        "print(\"Minimum value in the yredu column:\", subdf[\"yredu\"].min(), \"maximum value:\",subdf[\"yredu\"].max(), \"average value:\",round(np.average(subdf[\"yredu\"]),2))\n",
        "print(\"Minimum value in the capgain column:\", subdf[\"capgain\"].min(), \"maximum value:\",subdf[\"capgain\"].max(), \"average value:\",round(np.average(subdf[\"capgain\"]),2))\n",
        "print(\"Minimum value in the caploss column:\", subdf[\"caploss\"].min(), \"maximum value:\",subdf[\"caploss\"].max(), \"average value:\",round(np.average(subdf[\"caploss\"]),2))\n",
        "print(\"Minimum value in the workhr column:\", subdf[\"workhr\"].min(), \"maximum value:\",subdf[\"workhr\"].max(), \"average value:\",round(np.average(subdf[\"workhr\"]),2))"
      ]
    },
    {
      "cell_type": "code",
      "execution_count": 9,
      "metadata": {
        "id": "7iECxOmQ-nwj"
      },
      "outputs": [],
      "source": [
        "# Normalize each of the features [\"age\", \"yredu\", \"capgain\", \"caploss\", \"workhr\"] so that their values are always between 0 and 1.\n",
        "for column in [\"age\", \"yredu\", \"capgain\", \"caploss\", \"workhr\"]:\n",
        "    df[column] = (df[column] - df[column].min()) / (df[column].max() - df[column].min())"
      ]
    },
    {
      "cell_type": "markdown",
      "metadata": {
        "id": "qbfMly4R1pqK"
      },
      "source": [
        "### Part (b) Categorical Features [1 pt]\n",
        "\n",
        "What percentage of people in our data set are male? Note that the data labels all have an unfortunate space in the beginning, e.g. \" Male\" instead of \"Male\".\n",
        "\n",
        "What percentage of people in our data set are female?"
      ]
    },
    {
      "cell_type": "code",
      "execution_count": 10,
      "metadata": {
        "colab": {
          "base_uri": "https://localhost:8080/"
        },
        "id": "DjAjcsB_1pqK",
        "outputId": "d1762078-d5ea-4fbb-f7e7-4cceee18558e"
      },
      "outputs": [
        {
          "output_type": "execute_result",
          "data": {
            "text/plain": [
              "21790"
            ]
          },
          "metadata": {},
          "execution_count": 10
        }
      ],
      "source": [
        "# hint: you can do something like this in pandas\n",
        "sum(df[\"sex\"] == \" Male\")"
      ]
    },
    {
      "cell_type": "code",
      "execution_count": 11,
      "metadata": {
        "colab": {
          "base_uri": "https://localhost:8080/"
        },
        "id": "6YDcMtVGOz1V",
        "outputId": "b66b8cce-7e01-403b-a75c-a2cb99001fe9"
      },
      "outputs": [
        {
          "output_type": "execute_result",
          "data": {
            "text/plain": [
              "array([' Male', ' Female'], dtype=object)"
            ]
          },
          "metadata": {},
          "execution_count": 11
        }
      ],
      "source": [
        "df[\"sex\"].unique()"
      ]
    },
    {
      "cell_type": "code",
      "execution_count": 12,
      "metadata": {
        "colab": {
          "base_uri": "https://localhost:8080/"
        },
        "id": "u-qaIhMpPPP3",
        "outputId": "eb8e7bdd-6e9f-4294-aefa-8178aa187fa3"
      },
      "outputs": [
        {
          "output_type": "stream",
          "name": "stdout",
          "text": [
            "The percentage of males in the dataset is  66.921\n",
            "The percentage of females in the dataset is  33.079\n"
          ]
        }
      ],
      "source": [
        "# Percentage of males on the dataset\n",
        "percentage_male = sum(df[\"sex\"] == \" Male\") / len(df[\"sex\"]) *100\n",
        "print(\"The percentage of males in the dataset is \", round(percentage_male,3) )\n",
        "\n",
        "percentage_female = sum(df[\"sex\"] == \" Female\") / len(df[\"sex\"]) *100\n",
        "print(\"The percentage of females in the dataset is \", round(percentage_female,3) )\n",
        "\n"
      ]
    },
    {
      "cell_type": "markdown",
      "metadata": {
        "id": "eGVw7pqL1pqN"
      },
      "source": [
        "### Part (c) [2 pt]\n",
        "\n",
        "Before proceeding, we will modify our data frame in a couple more ways:\n",
        "\n",
        "1. We will restrict ourselves to using a subset of the features (to simplify our autoencoder)\n",
        "2. We will remove any records (rows) already containing missing values, and store them in a second dataframe. We will only use records without missing values to train our autoencoder.\n",
        "\n",
        "Both of these steps are done for you, below.\n",
        "\n",
        "How many records contained missing features? What percentage of records were removed?"
      ]
    },
    {
      "cell_type": "code",
      "execution_count": 13,
      "metadata": {
        "colab": {
          "base_uri": "https://localhost:8080/"
        },
        "collapsed": true,
        "id": "z6ewPUdv1pqO",
        "outputId": "cba300ef-03ef-4a94-f435-e9972f3bc484"
      },
      "outputs": [
        {
          "output_type": "execute_result",
          "data": {
            "text/plain": [
              "32561"
            ]
          },
          "metadata": {},
          "execution_count": 13
        }
      ],
      "source": [
        "contcols = [\"age\", \"yredu\", \"capgain\", \"caploss\", \"workhr\"]\n",
        "catcols = [\"work\", \"marriage\", \"occupation\", \"edu\", \"relationship\", \"sex\"]\n",
        "features = contcols + catcols\n",
        "df = df[features]\n",
        "len(df)"
      ]
    },
    {
      "cell_type": "code",
      "execution_count": 14,
      "metadata": {
        "colab": {
          "base_uri": "https://localhost:8080/"
        },
        "collapsed": true,
        "id": "fjdVll5a1pqQ",
        "outputId": "98d6c550-db98-4d15-a3b6-311a0843998e"
      },
      "outputs": [
        {
          "output_type": "stream",
          "name": "stdout",
          "text": [
            "The number of records contained missing features: 1843\n",
            "Percentage of records were removed 5.66 %\n"
          ]
        }
      ],
      "source": [
        "missing = pd.concat([df[c] == \" ?\" for c in catcols], axis=1).any(axis=1)\n",
        "print(\"The number of records contained missing features:\", missing.sum())\n",
        "print(\"Percentage of records were removed\", round(missing.sum()*100 /len(df),3), \"%\")\n",
        "df_with_missing = df[missing]\n",
        "df_not_missing = df[~missing]\n"
      ]
    },
    {
      "cell_type": "code",
      "execution_count": 15,
      "metadata": {
        "colab": {
          "base_uri": "https://localhost:8080/",
          "height": 423
        },
        "id": "v-v5zxS46mVg",
        "outputId": "ffd87b6b-2672-4d56-e301-5b2ba08a1d71"
      },
      "outputs": [
        {
          "output_type": "execute_result",
          "data": {
            "text/plain": [
              "            age     yredu   capgain  caploss    workhr               work  \\\n",
              "0      0.301370  0.800000  0.021740      0.0  0.397959          State-gov   \n",
              "1      0.452055  0.800000  0.000000      0.0  0.122449   Self-emp-not-inc   \n",
              "2      0.287671  0.533333  0.000000      0.0  0.397959            Private   \n",
              "3      0.493151  0.400000  0.000000      0.0  0.397959            Private   \n",
              "4      0.150685  0.800000  0.000000      0.0  0.397959            Private   \n",
              "...         ...       ...       ...      ...       ...                ...   \n",
              "32556  0.136986  0.733333  0.000000      0.0  0.377551            Private   \n",
              "32557  0.315068  0.533333  0.000000      0.0  0.397959            Private   \n",
              "32558  0.561644  0.533333  0.000000      0.0  0.397959            Private   \n",
              "32559  0.068493  0.533333  0.000000      0.0  0.193878            Private   \n",
              "32560  0.479452  0.533333  0.150242      0.0  0.397959       Self-emp-inc   \n",
              "\n",
              "                  marriage          occupation          edu    relationship  \\\n",
              "0            Never-married        Adm-clerical    Bachelors   Not-in-family   \n",
              "1       Married-civ-spouse     Exec-managerial    Bachelors         Husband   \n",
              "2                 Divorced   Handlers-cleaners      HS-grad   Not-in-family   \n",
              "3       Married-civ-spouse   Handlers-cleaners         11th         Husband   \n",
              "4       Married-civ-spouse      Prof-specialty    Bachelors            Wife   \n",
              "...                    ...                 ...          ...             ...   \n",
              "32556   Married-civ-spouse        Tech-support   Assoc-acdm            Wife   \n",
              "32557   Married-civ-spouse   Machine-op-inspct      HS-grad         Husband   \n",
              "32558              Widowed        Adm-clerical      HS-grad       Unmarried   \n",
              "32559        Never-married        Adm-clerical      HS-grad       Own-child   \n",
              "32560   Married-civ-spouse     Exec-managerial      HS-grad            Wife   \n",
              "\n",
              "           sex  \n",
              "0         Male  \n",
              "1         Male  \n",
              "2         Male  \n",
              "3         Male  \n",
              "4       Female  \n",
              "...        ...  \n",
              "32556   Female  \n",
              "32557     Male  \n",
              "32558   Female  \n",
              "32559     Male  \n",
              "32560   Female  \n",
              "\n",
              "[30718 rows x 11 columns]"
            ],
            "text/html": [
              "\n",
              "  <div id=\"df-ae92d007-16ed-4949-bce6-587bc2098f7d\" class=\"colab-df-container\">\n",
              "    <div>\n",
              "<style scoped>\n",
              "    .dataframe tbody tr th:only-of-type {\n",
              "        vertical-align: middle;\n",
              "    }\n",
              "\n",
              "    .dataframe tbody tr th {\n",
              "        vertical-align: top;\n",
              "    }\n",
              "\n",
              "    .dataframe thead th {\n",
              "        text-align: right;\n",
              "    }\n",
              "</style>\n",
              "<table border=\"1\" class=\"dataframe\">\n",
              "  <thead>\n",
              "    <tr style=\"text-align: right;\">\n",
              "      <th></th>\n",
              "      <th>age</th>\n",
              "      <th>yredu</th>\n",
              "      <th>capgain</th>\n",
              "      <th>caploss</th>\n",
              "      <th>workhr</th>\n",
              "      <th>work</th>\n",
              "      <th>marriage</th>\n",
              "      <th>occupation</th>\n",
              "      <th>edu</th>\n",
              "      <th>relationship</th>\n",
              "      <th>sex</th>\n",
              "    </tr>\n",
              "  </thead>\n",
              "  <tbody>\n",
              "    <tr>\n",
              "      <th>0</th>\n",
              "      <td>0.301370</td>\n",
              "      <td>0.800000</td>\n",
              "      <td>0.021740</td>\n",
              "      <td>0.0</td>\n",
              "      <td>0.397959</td>\n",
              "      <td>State-gov</td>\n",
              "      <td>Never-married</td>\n",
              "      <td>Adm-clerical</td>\n",
              "      <td>Bachelors</td>\n",
              "      <td>Not-in-family</td>\n",
              "      <td>Male</td>\n",
              "    </tr>\n",
              "    <tr>\n",
              "      <th>1</th>\n",
              "      <td>0.452055</td>\n",
              "      <td>0.800000</td>\n",
              "      <td>0.000000</td>\n",
              "      <td>0.0</td>\n",
              "      <td>0.122449</td>\n",
              "      <td>Self-emp-not-inc</td>\n",
              "      <td>Married-civ-spouse</td>\n",
              "      <td>Exec-managerial</td>\n",
              "      <td>Bachelors</td>\n",
              "      <td>Husband</td>\n",
              "      <td>Male</td>\n",
              "    </tr>\n",
              "    <tr>\n",
              "      <th>2</th>\n",
              "      <td>0.287671</td>\n",
              "      <td>0.533333</td>\n",
              "      <td>0.000000</td>\n",
              "      <td>0.0</td>\n",
              "      <td>0.397959</td>\n",
              "      <td>Private</td>\n",
              "      <td>Divorced</td>\n",
              "      <td>Handlers-cleaners</td>\n",
              "      <td>HS-grad</td>\n",
              "      <td>Not-in-family</td>\n",
              "      <td>Male</td>\n",
              "    </tr>\n",
              "    <tr>\n",
              "      <th>3</th>\n",
              "      <td>0.493151</td>\n",
              "      <td>0.400000</td>\n",
              "      <td>0.000000</td>\n",
              "      <td>0.0</td>\n",
              "      <td>0.397959</td>\n",
              "      <td>Private</td>\n",
              "      <td>Married-civ-spouse</td>\n",
              "      <td>Handlers-cleaners</td>\n",
              "      <td>11th</td>\n",
              "      <td>Husband</td>\n",
              "      <td>Male</td>\n",
              "    </tr>\n",
              "    <tr>\n",
              "      <th>4</th>\n",
              "      <td>0.150685</td>\n",
              "      <td>0.800000</td>\n",
              "      <td>0.000000</td>\n",
              "      <td>0.0</td>\n",
              "      <td>0.397959</td>\n",
              "      <td>Private</td>\n",
              "      <td>Married-civ-spouse</td>\n",
              "      <td>Prof-specialty</td>\n",
              "      <td>Bachelors</td>\n",
              "      <td>Wife</td>\n",
              "      <td>Female</td>\n",
              "    </tr>\n",
              "    <tr>\n",
              "      <th>...</th>\n",
              "      <td>...</td>\n",
              "      <td>...</td>\n",
              "      <td>...</td>\n",
              "      <td>...</td>\n",
              "      <td>...</td>\n",
              "      <td>...</td>\n",
              "      <td>...</td>\n",
              "      <td>...</td>\n",
              "      <td>...</td>\n",
              "      <td>...</td>\n",
              "      <td>...</td>\n",
              "    </tr>\n",
              "    <tr>\n",
              "      <th>32556</th>\n",
              "      <td>0.136986</td>\n",
              "      <td>0.733333</td>\n",
              "      <td>0.000000</td>\n",
              "      <td>0.0</td>\n",
              "      <td>0.377551</td>\n",
              "      <td>Private</td>\n",
              "      <td>Married-civ-spouse</td>\n",
              "      <td>Tech-support</td>\n",
              "      <td>Assoc-acdm</td>\n",
              "      <td>Wife</td>\n",
              "      <td>Female</td>\n",
              "    </tr>\n",
              "    <tr>\n",
              "      <th>32557</th>\n",
              "      <td>0.315068</td>\n",
              "      <td>0.533333</td>\n",
              "      <td>0.000000</td>\n",
              "      <td>0.0</td>\n",
              "      <td>0.397959</td>\n",
              "      <td>Private</td>\n",
              "      <td>Married-civ-spouse</td>\n",
              "      <td>Machine-op-inspct</td>\n",
              "      <td>HS-grad</td>\n",
              "      <td>Husband</td>\n",
              "      <td>Male</td>\n",
              "    </tr>\n",
              "    <tr>\n",
              "      <th>32558</th>\n",
              "      <td>0.561644</td>\n",
              "      <td>0.533333</td>\n",
              "      <td>0.000000</td>\n",
              "      <td>0.0</td>\n",
              "      <td>0.397959</td>\n",
              "      <td>Private</td>\n",
              "      <td>Widowed</td>\n",
              "      <td>Adm-clerical</td>\n",
              "      <td>HS-grad</td>\n",
              "      <td>Unmarried</td>\n",
              "      <td>Female</td>\n",
              "    </tr>\n",
              "    <tr>\n",
              "      <th>32559</th>\n",
              "      <td>0.068493</td>\n",
              "      <td>0.533333</td>\n",
              "      <td>0.000000</td>\n",
              "      <td>0.0</td>\n",
              "      <td>0.193878</td>\n",
              "      <td>Private</td>\n",
              "      <td>Never-married</td>\n",
              "      <td>Adm-clerical</td>\n",
              "      <td>HS-grad</td>\n",
              "      <td>Own-child</td>\n",
              "      <td>Male</td>\n",
              "    </tr>\n",
              "    <tr>\n",
              "      <th>32560</th>\n",
              "      <td>0.479452</td>\n",
              "      <td>0.533333</td>\n",
              "      <td>0.150242</td>\n",
              "      <td>0.0</td>\n",
              "      <td>0.397959</td>\n",
              "      <td>Self-emp-inc</td>\n",
              "      <td>Married-civ-spouse</td>\n",
              "      <td>Exec-managerial</td>\n",
              "      <td>HS-grad</td>\n",
              "      <td>Wife</td>\n",
              "      <td>Female</td>\n",
              "    </tr>\n",
              "  </tbody>\n",
              "</table>\n",
              "<p>30718 rows × 11 columns</p>\n",
              "</div>\n",
              "    <div class=\"colab-df-buttons\">\n",
              "\n",
              "  <div class=\"colab-df-container\">\n",
              "    <button class=\"colab-df-convert\" onclick=\"convertToInteractive('df-ae92d007-16ed-4949-bce6-587bc2098f7d')\"\n",
              "            title=\"Convert this dataframe to an interactive table.\"\n",
              "            style=\"display:none;\">\n",
              "\n",
              "  <svg xmlns=\"http://www.w3.org/2000/svg\" height=\"24px\" viewBox=\"0 -960 960 960\">\n",
              "    <path d=\"M120-120v-720h720v720H120Zm60-500h600v-160H180v160Zm220 220h160v-160H400v160Zm0 220h160v-160H400v160ZM180-400h160v-160H180v160Zm440 0h160v-160H620v160ZM180-180h160v-160H180v160Zm440 0h160v-160H620v160Z\"/>\n",
              "  </svg>\n",
              "    </button>\n",
              "\n",
              "  <style>\n",
              "    .colab-df-container {\n",
              "      display:flex;\n",
              "      gap: 12px;\n",
              "    }\n",
              "\n",
              "    .colab-df-convert {\n",
              "      background-color: #E8F0FE;\n",
              "      border: none;\n",
              "      border-radius: 50%;\n",
              "      cursor: pointer;\n",
              "      display: none;\n",
              "      fill: #1967D2;\n",
              "      height: 32px;\n",
              "      padding: 0 0 0 0;\n",
              "      width: 32px;\n",
              "    }\n",
              "\n",
              "    .colab-df-convert:hover {\n",
              "      background-color: #E2EBFA;\n",
              "      box-shadow: 0px 1px 2px rgba(60, 64, 67, 0.3), 0px 1px 3px 1px rgba(60, 64, 67, 0.15);\n",
              "      fill: #174EA6;\n",
              "    }\n",
              "\n",
              "    .colab-df-buttons div {\n",
              "      margin-bottom: 4px;\n",
              "    }\n",
              "\n",
              "    [theme=dark] .colab-df-convert {\n",
              "      background-color: #3B4455;\n",
              "      fill: #D2E3FC;\n",
              "    }\n",
              "\n",
              "    [theme=dark] .colab-df-convert:hover {\n",
              "      background-color: #434B5C;\n",
              "      box-shadow: 0px 1px 3px 1px rgba(0, 0, 0, 0.15);\n",
              "      filter: drop-shadow(0px 1px 2px rgba(0, 0, 0, 0.3));\n",
              "      fill: #FFFFFF;\n",
              "    }\n",
              "  </style>\n",
              "\n",
              "    <script>\n",
              "      const buttonEl =\n",
              "        document.querySelector('#df-ae92d007-16ed-4949-bce6-587bc2098f7d button.colab-df-convert');\n",
              "      buttonEl.style.display =\n",
              "        google.colab.kernel.accessAllowed ? 'block' : 'none';\n",
              "\n",
              "      async function convertToInteractive(key) {\n",
              "        const element = document.querySelector('#df-ae92d007-16ed-4949-bce6-587bc2098f7d');\n",
              "        const dataTable =\n",
              "          await google.colab.kernel.invokeFunction('convertToInteractive',\n",
              "                                                    [key], {});\n",
              "        if (!dataTable) return;\n",
              "\n",
              "        const docLinkHtml = 'Like what you see? Visit the ' +\n",
              "          '<a target=\"_blank\" href=https://colab.research.google.com/notebooks/data_table.ipynb>data table notebook</a>'\n",
              "          + ' to learn more about interactive tables.';\n",
              "        element.innerHTML = '';\n",
              "        dataTable['output_type'] = 'display_data';\n",
              "        await google.colab.output.renderOutput(dataTable, element);\n",
              "        const docLink = document.createElement('div');\n",
              "        docLink.innerHTML = docLinkHtml;\n",
              "        element.appendChild(docLink);\n",
              "      }\n",
              "    </script>\n",
              "  </div>\n",
              "\n",
              "\n",
              "<div id=\"df-74dc0d37-69b5-4492-bfb3-e50b8c693cf9\">\n",
              "  <button class=\"colab-df-quickchart\" onclick=\"quickchart('df-74dc0d37-69b5-4492-bfb3-e50b8c693cf9')\"\n",
              "            title=\"Suggest charts\"\n",
              "            style=\"display:none;\">\n",
              "\n",
              "<svg xmlns=\"http://www.w3.org/2000/svg\" height=\"24px\"viewBox=\"0 0 24 24\"\n",
              "     width=\"24px\">\n",
              "    <g>\n",
              "        <path d=\"M19 3H5c-1.1 0-2 .9-2 2v14c0 1.1.9 2 2 2h14c1.1 0 2-.9 2-2V5c0-1.1-.9-2-2-2zM9 17H7v-7h2v7zm4 0h-2V7h2v10zm4 0h-2v-4h2v4z\"/>\n",
              "    </g>\n",
              "</svg>\n",
              "  </button>\n",
              "\n",
              "<style>\n",
              "  .colab-df-quickchart {\n",
              "      --bg-color: #E8F0FE;\n",
              "      --fill-color: #1967D2;\n",
              "      --hover-bg-color: #E2EBFA;\n",
              "      --hover-fill-color: #174EA6;\n",
              "      --disabled-fill-color: #AAA;\n",
              "      --disabled-bg-color: #DDD;\n",
              "  }\n",
              "\n",
              "  [theme=dark] .colab-df-quickchart {\n",
              "      --bg-color: #3B4455;\n",
              "      --fill-color: #D2E3FC;\n",
              "      --hover-bg-color: #434B5C;\n",
              "      --hover-fill-color: #FFFFFF;\n",
              "      --disabled-bg-color: #3B4455;\n",
              "      --disabled-fill-color: #666;\n",
              "  }\n",
              "\n",
              "  .colab-df-quickchart {\n",
              "    background-color: var(--bg-color);\n",
              "    border: none;\n",
              "    border-radius: 50%;\n",
              "    cursor: pointer;\n",
              "    display: none;\n",
              "    fill: var(--fill-color);\n",
              "    height: 32px;\n",
              "    padding: 0;\n",
              "    width: 32px;\n",
              "  }\n",
              "\n",
              "  .colab-df-quickchart:hover {\n",
              "    background-color: var(--hover-bg-color);\n",
              "    box-shadow: 0 1px 2px rgba(60, 64, 67, 0.3), 0 1px 3px 1px rgba(60, 64, 67, 0.15);\n",
              "    fill: var(--button-hover-fill-color);\n",
              "  }\n",
              "\n",
              "  .colab-df-quickchart-complete:disabled,\n",
              "  .colab-df-quickchart-complete:disabled:hover {\n",
              "    background-color: var(--disabled-bg-color);\n",
              "    fill: var(--disabled-fill-color);\n",
              "    box-shadow: none;\n",
              "  }\n",
              "\n",
              "  .colab-df-spinner {\n",
              "    border: 2px solid var(--fill-color);\n",
              "    border-color: transparent;\n",
              "    border-bottom-color: var(--fill-color);\n",
              "    animation:\n",
              "      spin 1s steps(1) infinite;\n",
              "  }\n",
              "\n",
              "  @keyframes spin {\n",
              "    0% {\n",
              "      border-color: transparent;\n",
              "      border-bottom-color: var(--fill-color);\n",
              "      border-left-color: var(--fill-color);\n",
              "    }\n",
              "    20% {\n",
              "      border-color: transparent;\n",
              "      border-left-color: var(--fill-color);\n",
              "      border-top-color: var(--fill-color);\n",
              "    }\n",
              "    30% {\n",
              "      border-color: transparent;\n",
              "      border-left-color: var(--fill-color);\n",
              "      border-top-color: var(--fill-color);\n",
              "      border-right-color: var(--fill-color);\n",
              "    }\n",
              "    40% {\n",
              "      border-color: transparent;\n",
              "      border-right-color: var(--fill-color);\n",
              "      border-top-color: var(--fill-color);\n",
              "    }\n",
              "    60% {\n",
              "      border-color: transparent;\n",
              "      border-right-color: var(--fill-color);\n",
              "    }\n",
              "    80% {\n",
              "      border-color: transparent;\n",
              "      border-right-color: var(--fill-color);\n",
              "      border-bottom-color: var(--fill-color);\n",
              "    }\n",
              "    90% {\n",
              "      border-color: transparent;\n",
              "      border-bottom-color: var(--fill-color);\n",
              "    }\n",
              "  }\n",
              "</style>\n",
              "\n",
              "  <script>\n",
              "    async function quickchart(key) {\n",
              "      const quickchartButtonEl =\n",
              "        document.querySelector('#' + key + ' button');\n",
              "      quickchartButtonEl.disabled = true;  // To prevent multiple clicks.\n",
              "      quickchartButtonEl.classList.add('colab-df-spinner');\n",
              "      try {\n",
              "        const charts = await google.colab.kernel.invokeFunction(\n",
              "            'suggestCharts', [key], {});\n",
              "      } catch (error) {\n",
              "        console.error('Error during call to suggestCharts:', error);\n",
              "      }\n",
              "      quickchartButtonEl.classList.remove('colab-df-spinner');\n",
              "      quickchartButtonEl.classList.add('colab-df-quickchart-complete');\n",
              "    }\n",
              "    (() => {\n",
              "      let quickchartButtonEl =\n",
              "        document.querySelector('#df-74dc0d37-69b5-4492-bfb3-e50b8c693cf9 button');\n",
              "      quickchartButtonEl.style.display =\n",
              "        google.colab.kernel.accessAllowed ? 'block' : 'none';\n",
              "    })();\n",
              "  </script>\n",
              "</div>\n",
              "\n",
              "  <div id=\"id_148614b3-be33-4a4e-9bec-fbe274580f2b\">\n",
              "    <style>\n",
              "      .colab-df-generate {\n",
              "        background-color: #E8F0FE;\n",
              "        border: none;\n",
              "        border-radius: 50%;\n",
              "        cursor: pointer;\n",
              "        display: none;\n",
              "        fill: #1967D2;\n",
              "        height: 32px;\n",
              "        padding: 0 0 0 0;\n",
              "        width: 32px;\n",
              "      }\n",
              "\n",
              "      .colab-df-generate:hover {\n",
              "        background-color: #E2EBFA;\n",
              "        box-shadow: 0px 1px 2px rgba(60, 64, 67, 0.3), 0px 1px 3px 1px rgba(60, 64, 67, 0.15);\n",
              "        fill: #174EA6;\n",
              "      }\n",
              "\n",
              "      [theme=dark] .colab-df-generate {\n",
              "        background-color: #3B4455;\n",
              "        fill: #D2E3FC;\n",
              "      }\n",
              "\n",
              "      [theme=dark] .colab-df-generate:hover {\n",
              "        background-color: #434B5C;\n",
              "        box-shadow: 0px 1px 3px 1px rgba(0, 0, 0, 0.15);\n",
              "        filter: drop-shadow(0px 1px 2px rgba(0, 0, 0, 0.3));\n",
              "        fill: #FFFFFF;\n",
              "      }\n",
              "    </style>\n",
              "    <button class=\"colab-df-generate\" onclick=\"generateWithVariable('df_not_missing')\"\n",
              "            title=\"Generate code using this dataframe.\"\n",
              "            style=\"display:none;\">\n",
              "\n",
              "  <svg xmlns=\"http://www.w3.org/2000/svg\" height=\"24px\"viewBox=\"0 0 24 24\"\n",
              "       width=\"24px\">\n",
              "    <path d=\"M7,19H8.4L18.45,9,17,7.55,7,17.6ZM5,21V16.75L18.45,3.32a2,2,0,0,1,2.83,0l1.4,1.43a1.91,1.91,0,0,1,.58,1.4,1.91,1.91,0,0,1-.58,1.4L9.25,21ZM18.45,9,17,7.55Zm-12,3A5.31,5.31,0,0,0,4.9,8.1,5.31,5.31,0,0,0,1,6.5,5.31,5.31,0,0,0,4.9,4.9,5.31,5.31,0,0,0,6.5,1,5.31,5.31,0,0,0,8.1,4.9,5.31,5.31,0,0,0,12,6.5,5.46,5.46,0,0,0,6.5,12Z\"/>\n",
              "  </svg>\n",
              "    </button>\n",
              "    <script>\n",
              "      (() => {\n",
              "      const buttonEl =\n",
              "        document.querySelector('#id_148614b3-be33-4a4e-9bec-fbe274580f2b button.colab-df-generate');\n",
              "      buttonEl.style.display =\n",
              "        google.colab.kernel.accessAllowed ? 'block' : 'none';\n",
              "\n",
              "      buttonEl.onclick = () => {\n",
              "        google.colab.notebook.generateWithVariable('df_not_missing');\n",
              "      }\n",
              "      })();\n",
              "    </script>\n",
              "  </div>\n",
              "\n",
              "    </div>\n",
              "  </div>\n"
            ],
            "application/vnd.google.colaboratory.intrinsic+json": {
              "type": "dataframe",
              "variable_name": "df_not_missing",
              "summary": "{\n  \"name\": \"df_not_missing\",\n  \"rows\": 30718,\n  \"fields\": [\n    {\n      \"column\": \"age\",\n      \"properties\": {\n        \"dtype\": \"number\",\n        \"std\": 0.1797017453680292,\n        \"min\": 0.0,\n        \"max\": 1.0,\n        \"num_unique_values\": 72,\n        \"samples\": [\n          0.1506849315068493,\n          0.7671232876712328,\n          0.2465753424657534\n        ],\n        \"semantic_type\": \"\",\n        \"description\": \"\"\n      }\n    },\n    {\n      \"column\": \"yredu\",\n      \"properties\": {\n        \"dtype\": \"number\",\n        \"std\": 0.17083123724049712,\n        \"min\": 0.0,\n        \"max\": 1.0,\n        \"num_unique_values\": 16,\n        \"samples\": [\n          0.8,\n          0.5333333333333333,\n          0.6\n        ],\n        \"semantic_type\": \"\",\n        \"description\": \"\"\n      }\n    },\n    {\n      \"column\": \"capgain\",\n      \"properties\": {\n        \"dtype\": \"number\",\n        \"std\": 0.0749793834326031,\n        \"min\": 0.0,\n        \"max\": 1.0,\n        \"num_unique_values\": 118,\n        \"samples\": [\n          0.004010040100401004,\n          0.03887038870388704,\n          0.05013050130501305\n        ],\n        \"semantic_type\": \"\",\n        \"description\": \"\"\n      }\n    },\n    {\n      \"column\": \"caploss\",\n      \"properties\": {\n        \"dtype\": \"number\",\n        \"std\": 0.09312607963749439,\n        \"min\": 0.0,\n        \"max\": 1.0,\n        \"num_unique_values\": 90,\n        \"samples\": [\n          0.5847107438016529,\n          0.47084481175390264,\n          0.4233241505968779\n        ],\n        \"semantic_type\": \"\",\n        \"description\": \"\"\n      }\n    },\n    {\n      \"column\": \"workhr\",\n      \"properties\": {\n        \"dtype\": \"number\",\n        \"std\": 0.12229981664887735,\n        \"min\": 0.0,\n        \"max\": 1.0,\n        \"num_unique_values\": 94,\n        \"samples\": [\n          0.6428571428571429,\n          0.5612244897959183,\n          0.5306122448979592\n        ],\n        \"semantic_type\": \"\",\n        \"description\": \"\"\n      }\n    },\n    {\n      \"column\": \"work\",\n      \"properties\": {\n        \"dtype\": \"category\",\n        \"num_unique_values\": 7,\n        \"samples\": [\n          \" State-gov\",\n          \" Self-emp-not-inc\",\n          \" Self-emp-inc\"\n        ],\n        \"semantic_type\": \"\",\n        \"description\": \"\"\n      }\n    },\n    {\n      \"column\": \"marriage\",\n      \"properties\": {\n        \"dtype\": \"category\",\n        \"num_unique_values\": 7,\n        \"samples\": [\n          \" Never-married\",\n          \" Married-civ-spouse\",\n          \" Married-AF-spouse\"\n        ],\n        \"semantic_type\": \"\",\n        \"description\": \"\"\n      }\n    },\n    {\n      \"column\": \"occupation\",\n      \"properties\": {\n        \"dtype\": \"category\",\n        \"num_unique_values\": 14,\n        \"samples\": [\n          \" Machine-op-inspct\",\n          \" Protective-serv\",\n          \" Adm-clerical\"\n        ],\n        \"semantic_type\": \"\",\n        \"description\": \"\"\n      }\n    },\n    {\n      \"column\": \"edu\",\n      \"properties\": {\n        \"dtype\": \"category\",\n        \"num_unique_values\": 16,\n        \"samples\": [\n          \" Bachelors\",\n          \" HS-grad\",\n          \" Some-college\"\n        ],\n        \"semantic_type\": \"\",\n        \"description\": \"\"\n      }\n    },\n    {\n      \"column\": \"relationship\",\n      \"properties\": {\n        \"dtype\": \"category\",\n        \"num_unique_values\": 6,\n        \"samples\": [\n          \" Not-in-family\",\n          \" Husband\",\n          \" Other-relative\"\n        ],\n        \"semantic_type\": \"\",\n        \"description\": \"\"\n      }\n    },\n    {\n      \"column\": \"sex\",\n      \"properties\": {\n        \"dtype\": \"category\",\n        \"num_unique_values\": 2,\n        \"samples\": [\n          \" Female\",\n          \" Male\"\n        ],\n        \"semantic_type\": \"\",\n        \"description\": \"\"\n      }\n    }\n  ]\n}"
            }
          },
          "metadata": {},
          "execution_count": 15
        }
      ],
      "source": [
        "df_not_missing"
      ]
    },
    {
      "cell_type": "markdown",
      "metadata": {
        "id": "XuEpndTQ1pqU"
      },
      "source": [
        "### Part (d) One-Hot Encoding [1 pt]\n",
        "\n",
        "What are all the possible values of the feature \"work\" in `df_not_missing`? You may find the Python function `set` useful."
      ]
    },
    {
      "cell_type": "code",
      "execution_count": 19,
      "metadata": {
        "colab": {
          "base_uri": "https://localhost:8080/"
        },
        "collapsed": true,
        "id": "iKFh4owE1pqV",
        "outputId": "6e5cd99f-8cee-49bd-9ab2-9062e64ef702"
      },
      "outputs": [
        {
          "output_type": "execute_result",
          "data": {
            "text/plain": [
              "array([' State-gov', ' Self-emp-not-inc', ' Private', ' Federal-gov',\n",
              "       ' Local-gov', ' Self-emp-inc', ' Without-pay'], dtype=object)"
            ]
          },
          "metadata": {},
          "execution_count": 19
        }
      ],
      "source": [
        "df_not_missing[\"work\"].unique()"
      ]
    },
    {
      "cell_type": "markdown",
      "metadata": {
        "id": "COv3HaKr1pqY"
      },
      "source": [
        "We will be using a one-hot encoding to represent each of the categorical variables.\n",
        "Our autoencoder will be trained using these one-hot encodings.\n",
        "\n",
        "We will use the pandas function `get_dummies` to produce one-hot encodings\n",
        "for all of the categorical variables in `df_not_missing`."
      ]
    },
    {
      "cell_type": "code",
      "execution_count": 20,
      "metadata": {
        "collapsed": true,
        "id": "eKlSYmJg1pqZ"
      },
      "outputs": [],
      "source": [
        "data = pd.get_dummies(df_not_missing)"
      ]
    },
    {
      "cell_type": "code",
      "execution_count": 22,
      "metadata": {
        "colab": {
          "base_uri": "https://localhost:8080/",
          "height": 262
        },
        "collapsed": true,
        "id": "3y7nTZ7H1pqb",
        "outputId": "4bce190f-ff8f-4130-9356-07c029b7fcce",
        "scrolled": true
      },
      "outputs": [
        {
          "output_type": "execute_result",
          "data": {
            "text/plain": [
              "        age     yredu  capgain  caploss    workhr  work_ Federal-gov  \\\n",
              "0  0.301370  0.800000  0.02174      0.0  0.397959                  0   \n",
              "1  0.452055  0.800000  0.00000      0.0  0.122449                  0   \n",
              "2  0.287671  0.533333  0.00000      0.0  0.397959                  0   \n",
              "\n",
              "   work_ Local-gov  work_ Private  work_ Self-emp-inc  work_ Self-emp-not-inc  \\\n",
              "0                0              0                   0                       0   \n",
              "1                0              0                   0                       1   \n",
              "2                0              1                   0                       0   \n",
              "\n",
              "   ...  edu_ Prof-school  edu_ Some-college  relationship_ Husband  \\\n",
              "0  ...                 0                  0                      0   \n",
              "1  ...                 0                  0                      1   \n",
              "2  ...                 0                  0                      0   \n",
              "\n",
              "   relationship_ Not-in-family  relationship_ Other-relative  \\\n",
              "0                            1                             0   \n",
              "1                            0                             0   \n",
              "2                            1                             0   \n",
              "\n",
              "   relationship_ Own-child  relationship_ Unmarried  relationship_ Wife  \\\n",
              "0                        0                        0                   0   \n",
              "1                        0                        0                   0   \n",
              "2                        0                        0                   0   \n",
              "\n",
              "   sex_ Female  sex_ Male  \n",
              "0            0          1  \n",
              "1            0          1  \n",
              "2            0          1  \n",
              "\n",
              "[3 rows x 57 columns]"
            ],
            "text/html": [
              "\n",
              "  <div id=\"df-8af5bb19-b501-47e2-bcb2-e7fcf54c68e5\" class=\"colab-df-container\">\n",
              "    <div>\n",
              "<style scoped>\n",
              "    .dataframe tbody tr th:only-of-type {\n",
              "        vertical-align: middle;\n",
              "    }\n",
              "\n",
              "    .dataframe tbody tr th {\n",
              "        vertical-align: top;\n",
              "    }\n",
              "\n",
              "    .dataframe thead th {\n",
              "        text-align: right;\n",
              "    }\n",
              "</style>\n",
              "<table border=\"1\" class=\"dataframe\">\n",
              "  <thead>\n",
              "    <tr style=\"text-align: right;\">\n",
              "      <th></th>\n",
              "      <th>age</th>\n",
              "      <th>yredu</th>\n",
              "      <th>capgain</th>\n",
              "      <th>caploss</th>\n",
              "      <th>workhr</th>\n",
              "      <th>work_ Federal-gov</th>\n",
              "      <th>work_ Local-gov</th>\n",
              "      <th>work_ Private</th>\n",
              "      <th>work_ Self-emp-inc</th>\n",
              "      <th>work_ Self-emp-not-inc</th>\n",
              "      <th>...</th>\n",
              "      <th>edu_ Prof-school</th>\n",
              "      <th>edu_ Some-college</th>\n",
              "      <th>relationship_ Husband</th>\n",
              "      <th>relationship_ Not-in-family</th>\n",
              "      <th>relationship_ Other-relative</th>\n",
              "      <th>relationship_ Own-child</th>\n",
              "      <th>relationship_ Unmarried</th>\n",
              "      <th>relationship_ Wife</th>\n",
              "      <th>sex_ Female</th>\n",
              "      <th>sex_ Male</th>\n",
              "    </tr>\n",
              "  </thead>\n",
              "  <tbody>\n",
              "    <tr>\n",
              "      <th>0</th>\n",
              "      <td>0.301370</td>\n",
              "      <td>0.800000</td>\n",
              "      <td>0.02174</td>\n",
              "      <td>0.0</td>\n",
              "      <td>0.397959</td>\n",
              "      <td>0</td>\n",
              "      <td>0</td>\n",
              "      <td>0</td>\n",
              "      <td>0</td>\n",
              "      <td>0</td>\n",
              "      <td>...</td>\n",
              "      <td>0</td>\n",
              "      <td>0</td>\n",
              "      <td>0</td>\n",
              "      <td>1</td>\n",
              "      <td>0</td>\n",
              "      <td>0</td>\n",
              "      <td>0</td>\n",
              "      <td>0</td>\n",
              "      <td>0</td>\n",
              "      <td>1</td>\n",
              "    </tr>\n",
              "    <tr>\n",
              "      <th>1</th>\n",
              "      <td>0.452055</td>\n",
              "      <td>0.800000</td>\n",
              "      <td>0.00000</td>\n",
              "      <td>0.0</td>\n",
              "      <td>0.122449</td>\n",
              "      <td>0</td>\n",
              "      <td>0</td>\n",
              "      <td>0</td>\n",
              "      <td>0</td>\n",
              "      <td>1</td>\n",
              "      <td>...</td>\n",
              "      <td>0</td>\n",
              "      <td>0</td>\n",
              "      <td>1</td>\n",
              "      <td>0</td>\n",
              "      <td>0</td>\n",
              "      <td>0</td>\n",
              "      <td>0</td>\n",
              "      <td>0</td>\n",
              "      <td>0</td>\n",
              "      <td>1</td>\n",
              "    </tr>\n",
              "    <tr>\n",
              "      <th>2</th>\n",
              "      <td>0.287671</td>\n",
              "      <td>0.533333</td>\n",
              "      <td>0.00000</td>\n",
              "      <td>0.0</td>\n",
              "      <td>0.397959</td>\n",
              "      <td>0</td>\n",
              "      <td>0</td>\n",
              "      <td>1</td>\n",
              "      <td>0</td>\n",
              "      <td>0</td>\n",
              "      <td>...</td>\n",
              "      <td>0</td>\n",
              "      <td>0</td>\n",
              "      <td>0</td>\n",
              "      <td>1</td>\n",
              "      <td>0</td>\n",
              "      <td>0</td>\n",
              "      <td>0</td>\n",
              "      <td>0</td>\n",
              "      <td>0</td>\n",
              "      <td>1</td>\n",
              "    </tr>\n",
              "  </tbody>\n",
              "</table>\n",
              "<p>3 rows × 57 columns</p>\n",
              "</div>\n",
              "    <div class=\"colab-df-buttons\">\n",
              "\n",
              "  <div class=\"colab-df-container\">\n",
              "    <button class=\"colab-df-convert\" onclick=\"convertToInteractive('df-8af5bb19-b501-47e2-bcb2-e7fcf54c68e5')\"\n",
              "            title=\"Convert this dataframe to an interactive table.\"\n",
              "            style=\"display:none;\">\n",
              "\n",
              "  <svg xmlns=\"http://www.w3.org/2000/svg\" height=\"24px\" viewBox=\"0 -960 960 960\">\n",
              "    <path d=\"M120-120v-720h720v720H120Zm60-500h600v-160H180v160Zm220 220h160v-160H400v160Zm0 220h160v-160H400v160ZM180-400h160v-160H180v160Zm440 0h160v-160H620v160ZM180-180h160v-160H180v160Zm440 0h160v-160H620v160Z\"/>\n",
              "  </svg>\n",
              "    </button>\n",
              "\n",
              "  <style>\n",
              "    .colab-df-container {\n",
              "      display:flex;\n",
              "      gap: 12px;\n",
              "    }\n",
              "\n",
              "    .colab-df-convert {\n",
              "      background-color: #E8F0FE;\n",
              "      border: none;\n",
              "      border-radius: 50%;\n",
              "      cursor: pointer;\n",
              "      display: none;\n",
              "      fill: #1967D2;\n",
              "      height: 32px;\n",
              "      padding: 0 0 0 0;\n",
              "      width: 32px;\n",
              "    }\n",
              "\n",
              "    .colab-df-convert:hover {\n",
              "      background-color: #E2EBFA;\n",
              "      box-shadow: 0px 1px 2px rgba(60, 64, 67, 0.3), 0px 1px 3px 1px rgba(60, 64, 67, 0.15);\n",
              "      fill: #174EA6;\n",
              "    }\n",
              "\n",
              "    .colab-df-buttons div {\n",
              "      margin-bottom: 4px;\n",
              "    }\n",
              "\n",
              "    [theme=dark] .colab-df-convert {\n",
              "      background-color: #3B4455;\n",
              "      fill: #D2E3FC;\n",
              "    }\n",
              "\n",
              "    [theme=dark] .colab-df-convert:hover {\n",
              "      background-color: #434B5C;\n",
              "      box-shadow: 0px 1px 3px 1px rgba(0, 0, 0, 0.15);\n",
              "      filter: drop-shadow(0px 1px 2px rgba(0, 0, 0, 0.3));\n",
              "      fill: #FFFFFF;\n",
              "    }\n",
              "  </style>\n",
              "\n",
              "    <script>\n",
              "      const buttonEl =\n",
              "        document.querySelector('#df-8af5bb19-b501-47e2-bcb2-e7fcf54c68e5 button.colab-df-convert');\n",
              "      buttonEl.style.display =\n",
              "        google.colab.kernel.accessAllowed ? 'block' : 'none';\n",
              "\n",
              "      async function convertToInteractive(key) {\n",
              "        const element = document.querySelector('#df-8af5bb19-b501-47e2-bcb2-e7fcf54c68e5');\n",
              "        const dataTable =\n",
              "          await google.colab.kernel.invokeFunction('convertToInteractive',\n",
              "                                                    [key], {});\n",
              "        if (!dataTable) return;\n",
              "\n",
              "        const docLinkHtml = 'Like what you see? Visit the ' +\n",
              "          '<a target=\"_blank\" href=https://colab.research.google.com/notebooks/data_table.ipynb>data table notebook</a>'\n",
              "          + ' to learn more about interactive tables.';\n",
              "        element.innerHTML = '';\n",
              "        dataTable['output_type'] = 'display_data';\n",
              "        await google.colab.output.renderOutput(dataTable, element);\n",
              "        const docLink = document.createElement('div');\n",
              "        docLink.innerHTML = docLinkHtml;\n",
              "        element.appendChild(docLink);\n",
              "      }\n",
              "    </script>\n",
              "  </div>\n",
              "\n",
              "\n",
              "<div id=\"df-e1956f94-3331-4b04-9716-7cffca60d13f\">\n",
              "  <button class=\"colab-df-quickchart\" onclick=\"quickchart('df-e1956f94-3331-4b04-9716-7cffca60d13f')\"\n",
              "            title=\"Suggest charts\"\n",
              "            style=\"display:none;\">\n",
              "\n",
              "<svg xmlns=\"http://www.w3.org/2000/svg\" height=\"24px\"viewBox=\"0 0 24 24\"\n",
              "     width=\"24px\">\n",
              "    <g>\n",
              "        <path d=\"M19 3H5c-1.1 0-2 .9-2 2v14c0 1.1.9 2 2 2h14c1.1 0 2-.9 2-2V5c0-1.1-.9-2-2-2zM9 17H7v-7h2v7zm4 0h-2V7h2v10zm4 0h-2v-4h2v4z\"/>\n",
              "    </g>\n",
              "</svg>\n",
              "  </button>\n",
              "\n",
              "<style>\n",
              "  .colab-df-quickchart {\n",
              "      --bg-color: #E8F0FE;\n",
              "      --fill-color: #1967D2;\n",
              "      --hover-bg-color: #E2EBFA;\n",
              "      --hover-fill-color: #174EA6;\n",
              "      --disabled-fill-color: #AAA;\n",
              "      --disabled-bg-color: #DDD;\n",
              "  }\n",
              "\n",
              "  [theme=dark] .colab-df-quickchart {\n",
              "      --bg-color: #3B4455;\n",
              "      --fill-color: #D2E3FC;\n",
              "      --hover-bg-color: #434B5C;\n",
              "      --hover-fill-color: #FFFFFF;\n",
              "      --disabled-bg-color: #3B4455;\n",
              "      --disabled-fill-color: #666;\n",
              "  }\n",
              "\n",
              "  .colab-df-quickchart {\n",
              "    background-color: var(--bg-color);\n",
              "    border: none;\n",
              "    border-radius: 50%;\n",
              "    cursor: pointer;\n",
              "    display: none;\n",
              "    fill: var(--fill-color);\n",
              "    height: 32px;\n",
              "    padding: 0;\n",
              "    width: 32px;\n",
              "  }\n",
              "\n",
              "  .colab-df-quickchart:hover {\n",
              "    background-color: var(--hover-bg-color);\n",
              "    box-shadow: 0 1px 2px rgba(60, 64, 67, 0.3), 0 1px 3px 1px rgba(60, 64, 67, 0.15);\n",
              "    fill: var(--button-hover-fill-color);\n",
              "  }\n",
              "\n",
              "  .colab-df-quickchart-complete:disabled,\n",
              "  .colab-df-quickchart-complete:disabled:hover {\n",
              "    background-color: var(--disabled-bg-color);\n",
              "    fill: var(--disabled-fill-color);\n",
              "    box-shadow: none;\n",
              "  }\n",
              "\n",
              "  .colab-df-spinner {\n",
              "    border: 2px solid var(--fill-color);\n",
              "    border-color: transparent;\n",
              "    border-bottom-color: var(--fill-color);\n",
              "    animation:\n",
              "      spin 1s steps(1) infinite;\n",
              "  }\n",
              "\n",
              "  @keyframes spin {\n",
              "    0% {\n",
              "      border-color: transparent;\n",
              "      border-bottom-color: var(--fill-color);\n",
              "      border-left-color: var(--fill-color);\n",
              "    }\n",
              "    20% {\n",
              "      border-color: transparent;\n",
              "      border-left-color: var(--fill-color);\n",
              "      border-top-color: var(--fill-color);\n",
              "    }\n",
              "    30% {\n",
              "      border-color: transparent;\n",
              "      border-left-color: var(--fill-color);\n",
              "      border-top-color: var(--fill-color);\n",
              "      border-right-color: var(--fill-color);\n",
              "    }\n",
              "    40% {\n",
              "      border-color: transparent;\n",
              "      border-right-color: var(--fill-color);\n",
              "      border-top-color: var(--fill-color);\n",
              "    }\n",
              "    60% {\n",
              "      border-color: transparent;\n",
              "      border-right-color: var(--fill-color);\n",
              "    }\n",
              "    80% {\n",
              "      border-color: transparent;\n",
              "      border-right-color: var(--fill-color);\n",
              "      border-bottom-color: var(--fill-color);\n",
              "    }\n",
              "    90% {\n",
              "      border-color: transparent;\n",
              "      border-bottom-color: var(--fill-color);\n",
              "    }\n",
              "  }\n",
              "</style>\n",
              "\n",
              "  <script>\n",
              "    async function quickchart(key) {\n",
              "      const quickchartButtonEl =\n",
              "        document.querySelector('#' + key + ' button');\n",
              "      quickchartButtonEl.disabled = true;  // To prevent multiple clicks.\n",
              "      quickchartButtonEl.classList.add('colab-df-spinner');\n",
              "      try {\n",
              "        const charts = await google.colab.kernel.invokeFunction(\n",
              "            'suggestCharts', [key], {});\n",
              "      } catch (error) {\n",
              "        console.error('Error during call to suggestCharts:', error);\n",
              "      }\n",
              "      quickchartButtonEl.classList.remove('colab-df-spinner');\n",
              "      quickchartButtonEl.classList.add('colab-df-quickchart-complete');\n",
              "    }\n",
              "    (() => {\n",
              "      let quickchartButtonEl =\n",
              "        document.querySelector('#df-e1956f94-3331-4b04-9716-7cffca60d13f button');\n",
              "      quickchartButtonEl.style.display =\n",
              "        google.colab.kernel.accessAllowed ? 'block' : 'none';\n",
              "    })();\n",
              "  </script>\n",
              "</div>\n",
              "\n",
              "    </div>\n",
              "  </div>\n"
            ],
            "application/vnd.google.colaboratory.intrinsic+json": {
              "type": "dataframe"
            }
          },
          "metadata": {},
          "execution_count": 22
        }
      ],
      "source": [
        "data[:3]"
      ]
    },
    {
      "cell_type": "markdown",
      "metadata": {
        "id": "HwjDg1uM1pqe"
      },
      "source": [
        "### Part (e) One-Hot Encoding [2 pt]\n",
        "\n",
        "The dataframe `data` contains the cleaned and normalized data that we will use to train our denoising autoencoder.\n",
        "\n",
        "How many **columns** (features) are in the dataframe `data`?\n",
        "\n",
        "Briefly explain where that number come from."
      ]
    },
    {
      "cell_type": "code",
      "execution_count": 23,
      "metadata": {
        "colab": {
          "base_uri": "https://localhost:8080/"
        },
        "collapsed": true,
        "id": "yjZ5N0Tl1pqf",
        "outputId": "e185078d-b2fb-4a01-f3fd-7b9bb8095e78"
      },
      "outputs": [
        {
          "output_type": "execute_result",
          "data": {
            "text/plain": [
              "57"
            ]
          },
          "metadata": {},
          "execution_count": 23
        }
      ],
      "source": [
        "len(data.columns) # The length of the number of columns is the number of features in the dataset"
      ]
    },
    {
      "cell_type": "code",
      "execution_count": 24,
      "metadata": {
        "colab": {
          "base_uri": "https://localhost:8080/"
        },
        "id": "yLnWqLYC19Ed",
        "outputId": "0090a99d-e46a-4c26-d692-024323b8c75f"
      },
      "outputs": [
        {
          "output_type": "execute_result",
          "data": {
            "text/plain": [
              "Index(['age', 'yredu', 'capgain', 'caploss', 'workhr', 'work_ Federal-gov',\n",
              "       'work_ Local-gov', 'work_ Private', 'work_ Self-emp-inc',\n",
              "       'work_ Self-emp-not-inc', 'work_ State-gov', 'work_ Without-pay',\n",
              "       'marriage_ Divorced', 'marriage_ Married-AF-spouse',\n",
              "       'marriage_ Married-civ-spouse', 'marriage_ Married-spouse-absent',\n",
              "       'marriage_ Never-married', 'marriage_ Separated', 'marriage_ Widowed',\n",
              "       'occupation_ Adm-clerical', 'occupation_ Armed-Forces',\n",
              "       'occupation_ Craft-repair', 'occupation_ Exec-managerial',\n",
              "       'occupation_ Farming-fishing', 'occupation_ Handlers-cleaners',\n",
              "       'occupation_ Machine-op-inspct', 'occupation_ Other-service',\n",
              "       'occupation_ Priv-house-serv', 'occupation_ Prof-specialty',\n",
              "       'occupation_ Protective-serv', 'occupation_ Sales',\n",
              "       'occupation_ Tech-support', 'occupation_ Transport-moving', 'edu_ 10th',\n",
              "       'edu_ 11th', 'edu_ 12th', 'edu_ 1st-4th', 'edu_ 5th-6th',\n",
              "       'edu_ 7th-8th', 'edu_ 9th', 'edu_ Assoc-acdm', 'edu_ Assoc-voc',\n",
              "       'edu_ Bachelors', 'edu_ Doctorate', 'edu_ HS-grad', 'edu_ Masters',\n",
              "       'edu_ Preschool', 'edu_ Prof-school', 'edu_ Some-college',\n",
              "       'relationship_ Husband', 'relationship_ Not-in-family',\n",
              "       'relationship_ Other-relative', 'relationship_ Own-child',\n",
              "       'relationship_ Unmarried', 'relationship_ Wife', 'sex_ Female',\n",
              "       'sex_ Male'],\n",
              "      dtype='object')"
            ]
          },
          "metadata": {},
          "execution_count": 24
        }
      ],
      "source": [
        "data.columns"
      ]
    },
    {
      "cell_type": "markdown",
      "metadata": {
        "id": "OEJ0Ci3l1pqh"
      },
      "source": [
        "### Part (f) One-Hot Conversion [3 pt]\n",
        "\n",
        "We will convert the pandas data frame `data` into numpy, so that\n",
        "it can be further converted into a PyTorch tensor.\n",
        "However, in doing so, we lose the column label information that\n",
        "a panda data frame automatically stores.\n",
        "\n",
        "Complete the function `get_categorical_value` that will return\n",
        "the named value of a feature given a one-hot embedding.\n",
        "You may find the global variables `cat_index` and `cat_values`\n",
        "useful. (Display them and figure out what they are first.)\n",
        "\n",
        "We will need this function in the next part of the lab\n",
        "to interpret our autoencoder outputs. So, the input\n",
        "to our function `get_categorical_values` might not\n",
        "actually be \"one-hot\" -- the input may instead\n",
        "contain real-valued predictions from our neural network."
      ]
    },
    {
      "cell_type": "code",
      "execution_count": 25,
      "metadata": {
        "collapsed": true,
        "id": "ZmovX6gu1pqi"
      },
      "outputs": [],
      "source": [
        "datanp = data.values.astype(np.float32)"
      ]
    },
    {
      "cell_type": "code",
      "execution_count": 26,
      "metadata": {
        "colab": {
          "base_uri": "https://localhost:8080/"
        },
        "collapsed": true,
        "id": "YRIa5MBd1pql",
        "outputId": "68a21dc3-848b-4477-a520-63f0cea9a579"
      },
      "outputs": [
        {
          "output_type": "stream",
          "name": "stdout",
          "text": [
            "cat_index  {'work': 5, 'marriage': 12, 'occupation': 19, 'edu': 33, 'relationship': 49, 'sex': 55}\n",
            "cat_values {'work': ['Federal-gov', 'Local-gov', 'Private', 'Self-emp-inc', 'Self-emp-not-inc', 'State-gov', 'Without-pay'], 'marriage': ['Divorced', 'Married-AF-spouse', 'Married-civ-spouse', 'Married-spouse-absent', 'Never-married', 'Separated', 'Widowed'], 'occupation': ['Adm-clerical', 'Armed-Forces', 'Craft-repair', 'Exec-managerial', 'Farming-fishing', 'Handlers-cleaners', 'Machine-op-inspct', 'Other-service', 'Priv-house-serv', 'Prof-specialty', 'Protective-serv', 'Sales', 'Tech-support', 'Transport-moving'], 'edu': ['10th', '11th', '12th', '1st-4th', '5th-6th', '7th-8th', '9th', 'Assoc-acdm', 'Assoc-voc', 'Bachelors', 'Doctorate', 'HS-grad', 'Masters', 'Preschool', 'Prof-school', 'Some-college'], 'relationship': ['Husband', 'Not-in-family', 'Other-relative', 'Own-child', 'Unmarried', 'Wife'], 'sex': ['Female', 'Male']}\n"
          ]
        }
      ],
      "source": [
        "cat_index = {}  # Mapping of feature -> start index of feature in a record\n",
        "cat_values = {} # Mapping of feature -> list of categorical values the feature can take\n",
        "\n",
        "# build up the cat_index and cat_values dictionary\n",
        "for i, header in enumerate(data.keys()):\n",
        "    if \"_\" in header: # categorical header\n",
        "        feature, value = header.split()\n",
        "        feature = feature[:-1] # remove the last char; it is always an underscore\n",
        "        if feature not in cat_index:\n",
        "            cat_index[feature] = i\n",
        "            cat_values[feature] = [value]\n",
        "        else:\n",
        "            cat_values[feature].append(value)\n",
        "print(\"cat_index \", cat_index)\n",
        "print(\"cat_values\", cat_values)\n",
        "\n",
        "def get_onehot(record, feature):\n",
        "    \"\"\"\n",
        "    Return the portion of `record` that is the one-hot encoding\n",
        "    of `feature`. For example, since the feature \"work\" is stored\n",
        "    in the indices [5:12] in each record, calling `get_range(record, \"work\")`\n",
        "    is equivalent to accessing `record[5:12]`.\n",
        "\n",
        "    Args:\n",
        "        - record: a numpy array representing one record, formatted\n",
        "                  the same way as a row in `data.np`\n",
        "        - feature: a string, should be an element of `catcols`\n",
        "    \"\"\"\n",
        "    start_index = cat_index[feature]\n",
        "    stop_index = cat_index[feature] + len(cat_values[feature])\n",
        "    return record[start_index:stop_index]\n",
        "\n",
        "def get_categorical_value(onehot, feature):\n",
        "    \"\"\"\n",
        "    Return the categorical value name of a feature given\n",
        "    a one-hot vector representing the feature.\n",
        "\n",
        "    Args:\n",
        "        - onehot: a numpy array one-hot representation of the feature\n",
        "        - feature: a string, should be an element of `catcols`\n",
        "\n",
        "    Examples:\n",
        "\n",
        "    >>> get_categorical_value(np.array([0., 0., 0., 0., 0., 1., 0.]), \"work\")\n",
        "    'State-gov'\n",
        "    >>> get_categorical_value(np.array([0.1, 0., 1.1, 0.2, 0., 1., 0.]), \"work\")\n",
        "    'Private'\n",
        "    \"\"\"\n",
        "    highest_index = np.argmax(onehot)\n",
        "    return cat_values[feature][highest_index]"
      ]
    },
    {
      "cell_type": "code",
      "source": [
        "get_categorical_value(np.array([0., 0., 0., 0., 0., 1., 0.]), \"work\")"
      ],
      "metadata": {
        "colab": {
          "base_uri": "https://localhost:8080/",
          "height": 35
        },
        "id": "DRtSmwQcJvUx",
        "outputId": "e7ea1424-4387-45fc-9e0d-0016038ad0d6"
      },
      "execution_count": 27,
      "outputs": [
        {
          "output_type": "execute_result",
          "data": {
            "text/plain": [
              "'State-gov'"
            ],
            "application/vnd.google.colaboratory.intrinsic+json": {
              "type": "string"
            }
          },
          "metadata": {},
          "execution_count": 27
        }
      ]
    },
    {
      "cell_type": "code",
      "execution_count": 28,
      "metadata": {
        "collapsed": true,
        "id": "T_XXxZdh1pqv"
      },
      "outputs": [],
      "source": [
        "# more useful code, used during training, that depends on the function\n",
        "# you write above\n",
        "\n",
        "def get_feature(record, feature):\n",
        "    \"\"\"\n",
        "    Return the categorical feature value of a record\n",
        "    \"\"\"\n",
        "    onehot = get_onehot(record, feature)\n",
        "    return get_categorical_value(onehot, feature)\n",
        "\n",
        "def get_features(record):\n",
        "    \"\"\"\n",
        "    Return a dictionary of all categorical feature values of a record\n",
        "    \"\"\"\n",
        "    return { f: get_feature(record, f) for f in catcols }"
      ]
    },
    {
      "cell_type": "markdown",
      "metadata": {
        "id": "1_5ZZR_J1pqy"
      },
      "source": [
        "### Part (g) Train/Test Split [3 pt]\n",
        "\n",
        "Randomly split the data into approximately 70% training, 15% validation and 15% test.\n",
        "\n",
        "Report the number of items in your training, validation, and test set."
      ]
    },
    {
      "cell_type": "code",
      "execution_count": 29,
      "metadata": {
        "collapsed": true,
        "id": "TE_fTJJf1pqz"
      },
      "outputs": [],
      "source": [
        "from torch.utils.data.sampler import SubsetRandomSampler\n",
        "\n",
        "# set the numpy seed for reproducibility\n",
        "# https://docs.scipy.org/doc/numpy/reference/generated/numpy.random.seed.html\n",
        "np.random.seed(50)\n",
        "\n",
        "# todo\n",
        "indices = list(range(len(datanp)))  # Generate indices for the entire dataset\n",
        "np.random.shuffle(indices)\n",
        "split_train = int(len(indices) * 0.7)\n",
        "train_indices, test_val_indices = indices[:split_train], indices[split_train:]\n",
        "\n",
        "split_test_val = int(len(test_val_indices) * 0.5)\n",
        "test_indices, val_indices = test_val_indices[:split_test_val], test_val_indices[split_test_val:]\n",
        "\n",
        "train_set = datanp[train_indices]\n",
        "val_set = datanp[val_indices]\n",
        "test_set = datanp[test_indices]\n",
        "\n",
        "train_sampler = SubsetRandomSampler(train_indices)\n",
        "val_sampler = SubsetRandomSampler(val_indices)\n",
        "test_sampler = SubsetRandomSampler(test_indices)\n",
        "\n",
        "train_loader = torch.utils.data.DataLoader(datanp, batch_size = 64, sampler=train_sampler, num_workers=1)\n",
        "val_loader = torch.utils.data.DataLoader(datanp, batch_size = 64, sampler=val_sampler, num_workers=1)\n",
        "test_loader = torch.utils.data.DataLoader(datanp, batch_size = 64, sampler=test_sampler, num_workers=1)\n"
      ]
    },
    {
      "cell_type": "markdown",
      "metadata": {
        "id": "h9wJAKOI1pq3"
      },
      "source": [
        "## Part 2. Model Setup [5 pt]\n",
        "\n",
        "### Part (a) [4 pt]\n",
        "\n",
        "Design a fully-connected autoencoder by modifying the `encoder` and `decoder`\n",
        "below.\n",
        "\n",
        "The input to this autoencoder will be the features of the `data`, with\n",
        "one categorical feature recorded as \"missing\". The output of the autoencoder\n",
        "should be the reconstruction of the same features, but with the missing\n",
        "value filled in.\n",
        "\n",
        "**Note**: Do not reduce the dimensionality of the input too much!\n",
        "The output of your embedding is expected to contain information\n",
        "about ~11 features."
      ]
    },
    {
      "cell_type": "code",
      "source": [
        "from torch import nn\n",
        "\n",
        "class AutoEncoder(nn.Module):\n",
        "    def __init__(self):\n",
        "        super(AutoEncoder, self).__init__()\n",
        "        self.encoder = nn.Sequential(\n",
        "            nn.Linear(57, 34), # TODO -- FILL OUT THE CODE HERE!\n",
        "            nn.Linear(34, 25),\n",
        "            nn.Linear(25, 16)\n",
        "        )\n",
        "        self.decoder = nn.Sequential(\n",
        "            nn.Linear(16, 25), # TODO -- FILL OUT THE CODE HERE!\n",
        "            nn.Linear(25, 34),\n",
        "            nn.Linear(34, 57),\n",
        "            nn.Sigmoid() # get to the range (0, 1)\n",
        "        )\n",
        "\n",
        "    def forward(self, x):\n",
        "        x = self.encoder(x)\n",
        "        x = self.decoder(x)\n",
        "        return x"
      ],
      "metadata": {
        "id": "OaGqIxQJDEgi"
      },
      "execution_count": 30,
      "outputs": []
    },
    {
      "cell_type": "markdown",
      "metadata": {
        "id": "kuEzTSAv1pq6"
      },
      "source": [
        "### Part (b) [1 pt]\n",
        "\n",
        "Explain why there is a sigmoid activation in the last step of the decoder.\n",
        "\n",
        "(**Note**: the values inside the data frame `data` and the training code in Part 3 might be helpful.)"
      ]
    },
    {
      "cell_type": "markdown",
      "metadata": {
        "id": "vG6_x2Z4EfV_"
      },
      "source": [
        "The signmoid activation function outputs values between 0 and 1. This is important here because the goal of our model is to reconstruct a categorical feature that has been one hot encoded and therefore also lies between 0 and 1."
      ]
    },
    {
      "cell_type": "markdown",
      "metadata": {
        "id": "jYwqFWVl1pq8"
      },
      "source": [
        "## Part 3. Training [18]\n",
        "\n",
        "### Part (a) [6 pt]\n",
        "\n",
        "We will train our autoencoder in the following way:\n",
        "\n",
        "- In each iteration, we will hide one of the categorical features using the `zero_out_random_features` function\n",
        "- We will pass the data with one missing feature through the autoencoder, and obtain a reconstruction\n",
        "- We will check how close the reconstruction is compared to the original data -- including the value of the missing feature\n",
        "\n",
        "Complete the code to train the autoencoder, and plot the training and validation loss every few iterations.\n",
        "You may also want to plot training and validation \"accuracy\" every few iterations, as we will define in\n",
        "part (b). You may also want to checkpoint your model every few iterations or epochs.\n",
        "\n",
        "Use `nn.MSELoss()` as your loss function. (Side note: you might recognize that this loss function is not\n",
        "ideal for this problem, but we will use it anyway.)"
      ]
    },
    {
      "cell_type": "code",
      "execution_count": 31,
      "metadata": {
        "collapsed": true,
        "id": "IDQA_-dS1pq9"
      },
      "outputs": [],
      "source": [
        "import matplotlib.pyplot as plt\n",
        "\n",
        "def zero_out_feature(records, feature):\n",
        "    \"\"\" Set the feature missing in records, by setting the appropriate\n",
        "    columns of records to 0\n",
        "    \"\"\"\n",
        "    start_index = cat_index[feature]\n",
        "    stop_index = cat_index[feature] + len(cat_values[feature])\n",
        "    records[:, start_index:stop_index] = 0\n",
        "    return records\n",
        "\n",
        "def zero_out_random_feature(records):\n",
        "    \"\"\" Set one random feature missing in records, by setting the\n",
        "    appropriate columns of records to 0\n",
        "    \"\"\"\n",
        "    return zero_out_feature(records, random.choice(catcols))\n",
        "\n",
        "import matplotlib.pyplot as plt\n",
        "\n",
        "def train(model, train_loader, valid_loader, num_epochs=5, learning_rate=1e-4):\n",
        "    torch.manual_seed(42)\n",
        "    criterion = nn.MSELoss()\n",
        "    optimizer = torch.optim.Adam(model.parameters(), lr=learning_rate)\n",
        "\n",
        "    train_acc = np.zeros(num_epochs)\n",
        "    val_acc = np.zeros(num_epochs)\n",
        "\n",
        "    train_loss = np.zeros(num_epochs)\n",
        "    val_loss = np.zeros(num_epochs)\n",
        "\n",
        "    for epoch in range(num_epochs):\n",
        "        model.train()\n",
        "        total_train_loss = 0\n",
        "        train_items = 0\n",
        "\n",
        "        for data in train_loader:\n",
        "            datam = zero_out_random_feature(data.clone())\n",
        "            recon = model(datam)\n",
        "            loss = criterion(recon, data)\n",
        "            optimizer.zero_grad()\n",
        "            loss.backward()\n",
        "            optimizer.step()\n",
        "\n",
        "            total_train_loss += loss.item()\n",
        "            train_items += 1\n",
        "\n",
        "        train_loss[epoch] = total_train_loss / train_items\n",
        "\n",
        "        model.eval()\n",
        "        total_val_loss = 0\n",
        "        val_items = 0\n",
        "\n",
        "        with torch.no_grad():\n",
        "            for data in valid_loader:\n",
        "                datam = zero_out_random_feature(data.clone())\n",
        "                recon = model(datam)\n",
        "                loss = criterion(recon, data)\n",
        "                total_val_loss += loss.item()\n",
        "                val_items += 1\n",
        "\n",
        "        val_loss[epoch] = total_val_loss / val_items\n",
        "\n",
        "        # Calculate accuracy for both training and validation sets\n",
        "        # The accuracy was calculated after each epoch instead of every few iterations in the interest of\n",
        "        # run time which was too long otherwise.\n",
        "        train_acc[epoch] = get_accuracy(model, train_loader)\n",
        "        val_acc[epoch] = get_accuracy(model, valid_loader)\n",
        "\n",
        "        # Print epoch results\n",
        "        print(f\"Epoch: {epoch}, Train Loss: {train_loss[epoch]:.4f}, Val Loss: {val_loss[epoch]:.4f}, Train Acc: {train_acc[epoch]:.4f}, Val Acc: {val_acc[epoch]:.4f}\")\n",
        "\n",
        "    epochs = np.arange(1, num_epochs + 1)\n",
        "\n",
        "    return train_acc, val_acc, train_loss, val_loss, epochs"
      ]
    },
    {
      "cell_type": "markdown",
      "metadata": {
        "id": "WKk01pwx1pq_"
      },
      "source": [
        "### Part (b) [3 pt]\n",
        "\n",
        "While plotting training and validation loss is valuable, loss values are harder to compare\n",
        "than accuracy percentages. It would be nice to have a measure of \"accuracy\" in this problem.\n",
        "\n",
        "Since we will only be imputing missing categorical values, we will define an accuracy measure.\n",
        "For each record and for each categorical feature, we determine whether\n",
        "the model can predict the categorical feature given all the other features of the record.\n",
        "\n",
        "A function `get_accuracy` is written for you. It is up to you to figure out how to\n",
        "use the function. **You don't need to submit anything in this part.**\n",
        "To earn the marks, correctly plot the training and validation accuracy every few\n",
        "iterations as part of your training curve."
      ]
    },
    {
      "cell_type": "code",
      "execution_count": 32,
      "metadata": {
        "collapsed": true,
        "id": "bHWLfCzM1pq_"
      },
      "outputs": [],
      "source": [
        "def get_accuracy(model, data_loader):\n",
        "    \"\"\"Return the \"accuracy\" of the autoencoder model across a\n",
        " data set.\n",
        "    That is, for each record and for each categorical feature,\n",
        "    we determine whether the model can successfully predict the value\n",
        "    of the categorical feature given all the other features of the\n",
        "    record. The returned \"accuracy\" measure is the percentage of times\n",
        "    that our model is successful.\n",
        "\n",
        "    Args:\n",
        "       - model: the autoencoder model, an instance of nn.Module\n",
        "       - data_loader: an instance of torch.utils.data.DataLoader\n",
        "\n",
        "    Example (to illustrate how get_accuracy is intended to be called.\n",
        "             Depending on your variable naming this code might require\n",
        "             modification.)\n",
        "\n",
        "        >>> model = AutoEncoder()\n",
        "        >>> vdl = torch.utils.data.DataLoader(data_valid, batch_size=256, shuffle=True)\n",
        "        >>> get_accuracy(model, vdl)\n",
        "    \"\"\"\n",
        "    total = 0\n",
        "    acc = 0\n",
        "\n",
        "    for col in catcols:\n",
        "\n",
        "        for item in data_loader: # minibatches\n",
        "\n",
        "            inp = item.detach().numpy()\n",
        "\n",
        "            out = model(zero_out_feature(item.clone(), col)).detach().numpy()\n",
        "\n",
        "            for i in range(out.shape[0]): # record in minibatch\n",
        "\n",
        "                acc += int(get_feature(out[i], col) == get_feature(inp[i], col))\n",
        "                total += 1\n",
        "\n",
        "\n",
        "    return acc / total"
      ]
    },
    {
      "cell_type": "markdown",
      "metadata": {
        "id": "SxCTlXoV1prB"
      },
      "source": [
        "### Part (c) [4 pt]\n",
        "\n",
        "Run your updated training code, using reasonable initial hyperparameters.\n",
        "\n",
        "Include your training curve in your submission."
      ]
    },
    {
      "cell_type": "code",
      "source": [
        "model = AutoEncoder()\n",
        "\n",
        "train_acc, val_acc, train_loss, val_loss, epochs = train(model, train_loader, val_loader, num_epochs=40, learning_rate=1e-4)\n",
        "\n",
        "plt.title(\"Training vs Validation Accuracy\")\n",
        "plt.plot(epochs, train_acc, label=\"Train\")\n",
        "plt.plot(epochs, val_acc, label=\"Val\")\n",
        "plt.xlabel(\"Epochs\")\n",
        "plt.ylabel(\"Accuracy\")\n",
        "plt.legend(loc='best')\n",
        "plt.show()\n",
        "\n",
        "plt.title(\"Training vs Validation Loss\")\n",
        "plt.plot(epochs, train_loss, label=\"Train\")\n",
        "plt.plot(epochs, val_loss, label=\"Val\")\n",
        "plt.xlabel(\"Epochs\")\n",
        "plt.ylabel(\"Train Loss\")\n",
        "plt.legend(loc='best')\n",
        "plt.show()"
      ],
      "metadata": {
        "colab": {
          "base_uri": "https://localhost:8080/",
          "height": 1000
        },
        "id": "jhWOGXKO7I3H",
        "outputId": "b1724c3a-79bd-48b7-9df8-65df88c156cb"
      },
      "execution_count": 53,
      "outputs": [
        {
          "output_type": "stream",
          "name": "stdout",
          "text": [
            "Epoch: 0, Train Loss: 0.1703, Val Loss: 0.0759, Train Acc: 0.4408, Val Acc: 0.4378\n",
            "Epoch: 1, Train Loss: 0.0721, Val Loss: 0.0710, Train Acc: 0.4596, Val Acc: 0.4566\n",
            "Epoch: 2, Train Loss: 0.0704, Val Loss: 0.0700, Train Acc: 0.4574, Val Acc: 0.4556\n",
            "Epoch: 3, Train Loss: 0.0676, Val Loss: 0.0629, Train Acc: 0.5002, Val Acc: 0.5010\n",
            "Epoch: 4, Train Loss: 0.0581, Val Loss: 0.0559, Train Acc: 0.5483, Val Acc: 0.5480\n",
            "Epoch: 5, Train Loss: 0.0554, Val Loss: 0.0547, Train Acc: 0.5525, Val Acc: 0.5528\n",
            "Epoch: 6, Train Loss: 0.0544, Val Loss: 0.0541, Train Acc: 0.5567, Val Acc: 0.5552\n",
            "Epoch: 7, Train Loss: 0.0539, Val Loss: 0.0537, Train Acc: 0.5613, Val Acc: 0.5599\n",
            "Epoch: 8, Train Loss: 0.0534, Val Loss: 0.0528, Train Acc: 0.5646, Val Acc: 0.5628\n",
            "Epoch: 9, Train Loss: 0.0525, Val Loss: 0.0520, Train Acc: 0.5710, Val Acc: 0.5688\n",
            "Epoch: 10, Train Loss: 0.0509, Val Loss: 0.0501, Train Acc: 0.5699, Val Acc: 0.5697\n",
            "Epoch: 11, Train Loss: 0.0491, Val Loss: 0.0486, Train Acc: 0.5707, Val Acc: 0.5701\n",
            "Epoch: 12, Train Loss: 0.0481, Val Loss: 0.0477, Train Acc: 0.5714, Val Acc: 0.5702\n",
            "Epoch: 13, Train Loss: 0.0471, Val Loss: 0.0465, Train Acc: 0.5719, Val Acc: 0.5713\n",
            "Epoch: 14, Train Loss: 0.0459, Val Loss: 0.0447, Train Acc: 0.5732, Val Acc: 0.5723\n",
            "Epoch: 15, Train Loss: 0.0443, Val Loss: 0.0437, Train Acc: 0.5730, Val Acc: 0.5730\n",
            "Epoch: 16, Train Loss: 0.0435, Val Loss: 0.0429, Train Acc: 0.5736, Val Acc: 0.5746\n",
            "Epoch: 17, Train Loss: 0.0429, Val Loss: 0.0424, Train Acc: 0.5738, Val Acc: 0.5741\n",
            "Epoch: 18, Train Loss: 0.0422, Val Loss: 0.0416, Train Acc: 0.5761, Val Acc: 0.5770\n",
            "Epoch: 19, Train Loss: 0.0416, Val Loss: 0.0407, Train Acc: 0.5758, Val Acc: 0.5776\n",
            "Epoch: 20, Train Loss: 0.0405, Val Loss: 0.0397, Train Acc: 0.5755, Val Acc: 0.5781\n",
            "Epoch: 21, Train Loss: 0.0391, Val Loss: 0.0376, Train Acc: 0.5743, Val Acc: 0.5763\n",
            "Epoch: 22, Train Loss: 0.0372, Val Loss: 0.0361, Train Acc: 0.5750, Val Acc: 0.5770\n",
            "Epoch: 23, Train Loss: 0.0362, Val Loss: 0.0354, Train Acc: 0.5753, Val Acc: 0.5773\n",
            "Epoch: 24, Train Loss: 0.0355, Val Loss: 0.0351, Train Acc: 0.5760, Val Acc: 0.5782\n",
            "Epoch: 25, Train Loss: 0.0351, Val Loss: 0.0349, Train Acc: 0.5795, Val Acc: 0.5829\n",
            "Epoch: 26, Train Loss: 0.0347, Val Loss: 0.0340, Train Acc: 0.5827, Val Acc: 0.5841\n",
            "Epoch: 27, Train Loss: 0.0345, Val Loss: 0.0343, Train Acc: 0.5838, Val Acc: 0.5840\n",
            "Epoch: 28, Train Loss: 0.0341, Val Loss: 0.0337, Train Acc: 0.5917, Val Acc: 0.5925\n",
            "Epoch: 29, Train Loss: 0.0337, Val Loss: 0.0329, Train Acc: 0.5917, Val Acc: 0.5943\n",
            "Epoch: 30, Train Loss: 0.0331, Val Loss: 0.0325, Train Acc: 0.5952, Val Acc: 0.5975\n",
            "Epoch: 31, Train Loss: 0.0325, Val Loss: 0.0320, Train Acc: 0.5982, Val Acc: 0.6016\n",
            "Epoch: 32, Train Loss: 0.0321, Val Loss: 0.0314, Train Acc: 0.5977, Val Acc: 0.5988\n",
            "Epoch: 33, Train Loss: 0.0317, Val Loss: 0.0314, Train Acc: 0.5958, Val Acc: 0.5984\n",
            "Epoch: 34, Train Loss: 0.0314, Val Loss: 0.0314, Train Acc: 0.6011, Val Acc: 0.6041\n",
            "Epoch: 35, Train Loss: 0.0313, Val Loss: 0.0312, Train Acc: 0.6037, Val Acc: 0.6059\n",
            "Epoch: 36, Train Loss: 0.0313, Val Loss: 0.0306, Train Acc: 0.6004, Val Acc: 0.6019\n",
            "Epoch: 37, Train Loss: 0.0310, Val Loss: 0.0304, Train Acc: 0.6029, Val Acc: 0.6047\n",
            "Epoch: 38, Train Loss: 0.0311, Val Loss: 0.0308, Train Acc: 0.6042, Val Acc: 0.6044\n",
            "Epoch: 39, Train Loss: 0.0308, Val Loss: 0.0310, Train Acc: 0.6023, Val Acc: 0.6036\n"
          ]
        },
        {
          "output_type": "display_data",
          "data": {
            "text/plain": [
              "<Figure size 640x480 with 1 Axes>"
            ],
            "image/png": "[encoded data removed]"
          },
          "metadata": {}
        },
        {
          "output_type": "display_data",
          "data": {
            "text/plain": [
              "<Figure size 640x480 with 1 Axes>"
            ],
            "image/png": "[encoded data removed]"
          },
          "metadata": {}
        }
      ]
    },
    {
      "cell_type": "markdown",
      "metadata": {
        "id": "h9xTwIf51prF"
      },
      "source": [
        "### Part (d) [5 pt]\n",
        "\n",
        "Tune your hyperparameters, training at least 4 different models (4 sets of hyperparameters).\n",
        "\n",
        "Do not include all your training curves. Instead, explain what hyperparameters\n",
        "you tried, what their effect was, and what your thought process was as you\n",
        "chose the next set of hyperparameters to try."
      ]
    },
    {
      "cell_type": "code",
      "source": [
        "# Changing the learning rate from 0.0001 to 0.01\n",
        "model1 = AutoEncoder()\n",
        "\n",
        "train_acc, val_acc, train_loss, val_loss, epochs = train(model1, train_loader, val_loader, num_epochs=40, learning_rate=0.01)\n",
        "\n",
        "plt.title(\"Training vs Validation Accuracy\")\n",
        "plt.plot(epochs, train_acc, label=\"Train\")\n",
        "plt.plot(epochs, val_acc, label=\"Val\")\n",
        "plt.xlabel(\"Epochs\")\n",
        "plt.ylabel(\"Accuracy\")\n",
        "plt.legend(loc='best')\n",
        "plt.show()\n",
        "\n",
        "plt.title(\"Training vs Validation Loss\")\n",
        "plt.plot(epochs, train_loss, label=\"Train\")\n",
        "plt.plot(epochs, val_loss, label=\"Val\")\n",
        "plt.xlabel(\"Epochs\")\n",
        "plt.ylabel(\"Train Loss\")\n",
        "plt.legend(loc='best')\n",
        "plt.show()\n"
      ],
      "metadata": {
        "colab": {
          "base_uri": "https://localhost:8080/",
          "height": 1000
        },
        "id": "O06QqMFylQlv",
        "outputId": "ba0673b3-803c-42ad-c83a-58aab86690fe"
      },
      "execution_count": 54,
      "outputs": [
        {
          "output_type": "stream",
          "name": "stdout",
          "text": [
            "Epoch: 0, Train Loss: 0.0448, Val Loss: 0.0276, Train Acc: 0.5992, Val Acc: 0.5964\n",
            "Epoch: 1, Train Loss: 0.0250, Val Loss: 0.0212, Train Acc: 0.5950, Val Acc: 0.5919\n",
            "Epoch: 2, Train Loss: 0.0215, Val Loss: 0.0206, Train Acc: 0.6009, Val Acc: 0.5969\n",
            "Epoch: 3, Train Loss: 0.0209, Val Loss: 0.0202, Train Acc: 0.5958, Val Acc: 0.5931\n",
            "Epoch: 4, Train Loss: 0.0202, Val Loss: 0.0187, Train Acc: 0.6032, Val Acc: 0.6002\n",
            "Epoch: 5, Train Loss: 0.0187, Val Loss: 0.0183, Train Acc: 0.6048, Val Acc: 0.6022\n",
            "Epoch: 6, Train Loss: 0.0175, Val Loss: 0.0178, Train Acc: 0.6069, Val Acc: 0.6037\n",
            "Epoch: 7, Train Loss: 0.0171, Val Loss: 0.0163, Train Acc: 0.5966, Val Acc: 0.5920\n",
            "Epoch: 8, Train Loss: 0.0167, Val Loss: 0.0160, Train Acc: 0.6100, Val Acc: 0.6080\n",
            "Epoch: 9, Train Loss: 0.0161, Val Loss: 0.0165, Train Acc: 0.6180, Val Acc: 0.6144\n",
            "Epoch: 10, Train Loss: 0.0159, Val Loss: 0.0164, Train Acc: 0.6079, Val Acc: 0.6025\n",
            "Epoch: 11, Train Loss: 0.0169, Val Loss: 0.0170, Train Acc: 0.6054, Val Acc: 0.5999\n",
            "Epoch: 12, Train Loss: 0.0157, Val Loss: 0.0159, Train Acc: 0.5985, Val Acc: 0.5954\n",
            "Epoch: 13, Train Loss: 0.0153, Val Loss: 0.0145, Train Acc: 0.6065, Val Acc: 0.6035\n",
            "Epoch: 14, Train Loss: 0.0158, Val Loss: 0.0155, Train Acc: 0.6093, Val Acc: 0.6055\n",
            "Epoch: 15, Train Loss: 0.0152, Val Loss: 0.0159, Train Acc: 0.6129, Val Acc: 0.6094\n",
            "Epoch: 16, Train Loss: 0.0150, Val Loss: 0.0166, Train Acc: 0.6033, Val Acc: 0.5974\n",
            "Epoch: 17, Train Loss: 0.0152, Val Loss: 0.0137, Train Acc: 0.6138, Val Acc: 0.6068\n",
            "Epoch: 18, Train Loss: 0.0154, Val Loss: 0.0138, Train Acc: 0.6171, Val Acc: 0.6112\n",
            "Epoch: 19, Train Loss: 0.0143, Val Loss: 0.0143, Train Acc: 0.5999, Val Acc: 0.5964\n",
            "Epoch: 20, Train Loss: 0.0153, Val Loss: 0.0146, Train Acc: 0.6054, Val Acc: 0.6013\n",
            "Epoch: 21, Train Loss: 0.0143, Val Loss: 0.0147, Train Acc: 0.6196, Val Acc: 0.6140\n",
            "Epoch: 22, Train Loss: 0.0149, Val Loss: 0.0145, Train Acc: 0.6070, Val Acc: 0.6014\n",
            "Epoch: 23, Train Loss: 0.0145, Val Loss: 0.0145, Train Acc: 0.6003, Val Acc: 0.5961\n",
            "Epoch: 24, Train Loss: 0.0147, Val Loss: 0.0140, Train Acc: 0.6032, Val Acc: 0.5991\n",
            "Epoch: 25, Train Loss: 0.0142, Val Loss: 0.0142, Train Acc: 0.6047, Val Acc: 0.6007\n",
            "Epoch: 26, Train Loss: 0.0144, Val Loss: 0.0150, Train Acc: 0.6148, Val Acc: 0.6110\n",
            "Epoch: 27, Train Loss: 0.0145, Val Loss: 0.0146, Train Acc: 0.6047, Val Acc: 0.5996\n",
            "Epoch: 28, Train Loss: 0.0143, Val Loss: 0.0145, Train Acc: 0.6024, Val Acc: 0.5994\n",
            "Epoch: 29, Train Loss: 0.0145, Val Loss: 0.0145, Train Acc: 0.6167, Val Acc: 0.6101\n",
            "Epoch: 30, Train Loss: 0.0139, Val Loss: 0.0140, Train Acc: 0.6145, Val Acc: 0.6098\n",
            "Epoch: 31, Train Loss: 0.0139, Val Loss: 0.0154, Train Acc: 0.6041, Val Acc: 0.6024\n",
            "Epoch: 32, Train Loss: 0.0138, Val Loss: 0.0139, Train Acc: 0.6090, Val Acc: 0.6030\n",
            "Epoch: 33, Train Loss: 0.0136, Val Loss: 0.0142, Train Acc: 0.6159, Val Acc: 0.6097\n",
            "Epoch: 34, Train Loss: 0.0138, Val Loss: 0.0138, Train Acc: 0.6114, Val Acc: 0.6073\n",
            "Epoch: 35, Train Loss: 0.0143, Val Loss: 0.0135, Train Acc: 0.6157, Val Acc: 0.6110\n",
            "Epoch: 36, Train Loss: 0.0141, Val Loss: 0.0135, Train Acc: 0.6176, Val Acc: 0.6132\n",
            "Epoch: 37, Train Loss: 0.0141, Val Loss: 0.0139, Train Acc: 0.6108, Val Acc: 0.6047\n",
            "Epoch: 38, Train Loss: 0.0140, Val Loss: 0.0131, Train Acc: 0.6079, Val Acc: 0.6032\n",
            "Epoch: 39, Train Loss: 0.0140, Val Loss: 0.0132, Train Acc: 0.6089, Val Acc: 0.6037\n"
          ]
        },
        {
          "output_type": "display_data",
          "data": {
            "text/plain": [
              "<Figure size 640x480 with 1 Axes>"
            ],
            "image/png": "[encoded data removed]"
          },
          "metadata": {}
        },
        {
          "output_type": "display_data",
          "data": {
            "text/plain": [
              "<Figure size 640x480 with 1 Axes>"
            ],
            "image/png": "[encoded data removed]"
          },
          "metadata": {}
        }
      ]
    },
    {
      "cell_type": "code",
      "source": [
        "# Changing the batch size from 64 to 512\n",
        "\n",
        "from torch.utils.data.sampler import SubsetRandomSampler\n",
        "\n",
        "# set the numpy seed for reproducibility\n",
        "# https://docs.scipy.org/doc/numpy/reference/generated/numpy.random.seed.html\n",
        "np.random.seed(50)\n",
        "\n",
        "# todo\n",
        "indices = list(range(len(datanp)))\n",
        "np.random.shuffle(indices)\n",
        "split_train = int(len(indices) * 0.7)\n",
        "train_indices, test_val_indices = indices[:split_train], indices[split_train:]\n",
        "\n",
        "split_test_val = int(len(test_val_indices) * 0.5)\n",
        "test_indices, val_indices = test_val_indices[:split_test_val], test_val_indices[split_test_val:]\n",
        "\n",
        "train_set = datanp[train_indices]\n",
        "val_set = datanp[val_indices]\n",
        "test_set = datanp[test_indices]\n",
        "\n",
        "train_sampler = SubsetRandomSampler(train_indices)\n",
        "val_sampler = SubsetRandomSampler(val_indices)\n",
        "test_sampler = SubsetRandomSampler(test_indices)\n",
        "\n",
        "train_loader_512 = torch.utils.data.DataLoader(datanp, batch_size = 512, sampler=train_sampler, num_workers=1)\n",
        "val_loader_512 = torch.utils.data.DataLoader(datanp, batch_size = 512, sampler=val_sampler, num_workers=1)\n",
        "test_loader_512 = torch.utils.data.DataLoader(datanp, batch_size = 512, sampler=test_sampler, num_workers=1)"
      ],
      "metadata": {
        "id": "mPIWucmiFHO1"
      },
      "execution_count": 34,
      "outputs": []
    },
    {
      "cell_type": "code",
      "source": [
        "model2 = AutoEncoder()\n",
        "\n",
        "train_acc, val_acc, train_loss, val_loss, epochs = train(model2, train_loader_512, val_loader_512, num_epochs=40, learning_rate=0.01)\n",
        "\n",
        "plt.title(\"Training vs Validation Accuracy\")\n",
        "plt.plot(epochs, train_acc, label=\"Train\")\n",
        "plt.plot(epochs, val_acc, label=\"Val\")\n",
        "plt.xlabel(\"Epochs\")\n",
        "plt.ylabel(\"Accuracy\")\n",
        "plt.legend(loc='best')\n",
        "plt.show()\n",
        "\n",
        "plt.title(\"Training vs Validation Loss\")\n",
        "plt.plot(epochs, train_loss, label=\"Train\")\n",
        "plt.plot(epochs, val_loss, label=\"Val\")\n",
        "plt.xlabel(\"Epochs\")\n",
        "plt.ylabel(\"Train Loss\")\n",
        "plt.legend(loc='best')\n",
        "plt.show()"
      ],
      "metadata": {
        "colab": {
          "base_uri": "https://localhost:8080/",
          "height": 1000
        },
        "id": "AwJQNTLPlhlr",
        "outputId": "b0460898-4051-4229-8a91-d17fdf184d38"
      },
      "execution_count": 37,
      "outputs": [
        {
          "output_type": "stream",
          "name": "stdout",
          "text": [
            "Epoch: 0, Train Loss: 0.0888, Val Loss: 0.0637, Train Acc: 0.5351, Val Acc: 0.5325\n",
            "Epoch: 1, Train Loss: 0.0577, Val Loss: 0.0513, Train Acc: 0.5626, Val Acc: 0.5628\n",
            "Epoch: 2, Train Loss: 0.0488, Val Loss: 0.0472, Train Acc: 0.5782, Val Acc: 0.5780\n",
            "Epoch: 3, Train Loss: 0.0425, Val Loss: 0.0373, Train Acc: 0.5911, Val Acc: 0.5878\n",
            "Epoch: 4, Train Loss: 0.0362, Val Loss: 0.0356, Train Acc: 0.5930, Val Acc: 0.5888\n",
            "Epoch: 5, Train Loss: 0.0326, Val Loss: 0.0323, Train Acc: 0.6032, Val Acc: 0.6008\n",
            "Epoch: 6, Train Loss: 0.0321, Val Loss: 0.0318, Train Acc: 0.6030, Val Acc: 0.6001\n",
            "Epoch: 7, Train Loss: 0.0304, Val Loss: 0.0292, Train Acc: 0.5983, Val Acc: 0.5964\n",
            "Epoch: 8, Train Loss: 0.0282, Val Loss: 0.0288, Train Acc: 0.5981, Val Acc: 0.5962\n",
            "Epoch: 9, Train Loss: 0.0279, Val Loss: 0.0274, Train Acc: 0.6022, Val Acc: 0.6031\n",
            "Epoch: 10, Train Loss: 0.0261, Val Loss: 0.0252, Train Acc: 0.5932, Val Acc: 0.5889\n",
            "Epoch: 11, Train Loss: 0.0238, Val Loss: 0.0231, Train Acc: 0.5894, Val Acc: 0.5896\n",
            "Epoch: 12, Train Loss: 0.0232, Val Loss: 0.0216, Train Acc: 0.5945, Val Acc: 0.5941\n",
            "Epoch: 13, Train Loss: 0.0221, Val Loss: 0.0190, Train Acc: 0.5911, Val Acc: 0.5883\n",
            "Epoch: 14, Train Loss: 0.0200, Val Loss: 0.0222, Train Acc: 0.5900, Val Acc: 0.5838\n",
            "Epoch: 15, Train Loss: 0.0210, Val Loss: 0.0216, Train Acc: 0.5914, Val Acc: 0.5871\n",
            "Epoch: 16, Train Loss: 0.0200, Val Loss: 0.0197, Train Acc: 0.5986, Val Acc: 0.5970\n",
            "Epoch: 17, Train Loss: 0.0195, Val Loss: 0.0194, Train Acc: 0.5981, Val Acc: 0.5973\n",
            "Epoch: 18, Train Loss: 0.0197, Val Loss: 0.0229, Train Acc: 0.5912, Val Acc: 0.5901\n",
            "Epoch: 19, Train Loss: 0.0195, Val Loss: 0.0172, Train Acc: 0.5974, Val Acc: 0.5963\n",
            "Epoch: 20, Train Loss: 0.0183, Val Loss: 0.0190, Train Acc: 0.5970, Val Acc: 0.5976\n",
            "Epoch: 21, Train Loss: 0.0195, Val Loss: 0.0197, Train Acc: 0.6016, Val Acc: 0.5999\n",
            "Epoch: 22, Train Loss: 0.0183, Val Loss: 0.0173, Train Acc: 0.5963, Val Acc: 0.5946\n",
            "Epoch: 23, Train Loss: 0.0187, Val Loss: 0.0199, Train Acc: 0.5914, Val Acc: 0.5902\n",
            "Epoch: 24, Train Loss: 0.0170, Val Loss: 0.0163, Train Acc: 0.6030, Val Acc: 0.6010\n",
            "Epoch: 25, Train Loss: 0.0170, Val Loss: 0.0151, Train Acc: 0.5977, Val Acc: 0.5948\n",
            "Epoch: 26, Train Loss: 0.0157, Val Loss: 0.0167, Train Acc: 0.6004, Val Acc: 0.5985\n",
            "Epoch: 27, Train Loss: 0.0167, Val Loss: 0.0151, Train Acc: 0.5927, Val Acc: 0.5913\n",
            "Epoch: 28, Train Loss: 0.0170, Val Loss: 0.0162, Train Acc: 0.5947, Val Acc: 0.5907\n",
            "Epoch: 29, Train Loss: 0.0153, Val Loss: 0.0165, Train Acc: 0.6028, Val Acc: 0.5998\n",
            "Epoch: 30, Train Loss: 0.0145, Val Loss: 0.0145, Train Acc: 0.6038, Val Acc: 0.6001\n",
            "Epoch: 31, Train Loss: 0.0136, Val Loss: 0.0156, Train Acc: 0.6026, Val Acc: 0.5974\n",
            "Epoch: 32, Train Loss: 0.0156, Val Loss: 0.0142, Train Acc: 0.6011, Val Acc: 0.5969\n",
            "Epoch: 33, Train Loss: 0.0149, Val Loss: 0.0149, Train Acc: 0.5936, Val Acc: 0.5902\n",
            "Epoch: 34, Train Loss: 0.0154, Val Loss: 0.0149, Train Acc: 0.6035, Val Acc: 0.6015\n",
            "Epoch: 35, Train Loss: 0.0163, Val Loss: 0.0156, Train Acc: 0.6042, Val Acc: 0.6013\n",
            "Epoch: 36, Train Loss: 0.0146, Val Loss: 0.0156, Train Acc: 0.5993, Val Acc: 0.5940\n",
            "Epoch: 37, Train Loss: 0.0147, Val Loss: 0.0131, Train Acc: 0.6091, Val Acc: 0.6038\n",
            "Epoch: 38, Train Loss: 0.0145, Val Loss: 0.0143, Train Acc: 0.6052, Val Acc: 0.5998\n",
            "Epoch: 39, Train Loss: 0.0143, Val Loss: 0.0168, Train Acc: 0.6016, Val Acc: 0.5951\n"
          ]
        },
        {
          "output_type": "display_data",
          "data": {
            "text/plain": [
              "<Figure size 640x480 with 1 Axes>"
            ],
            "image/png": "[encoded data removed]"
          },
          "metadata": {}
        },
        {
          "output_type": "display_data",
          "data": {
            "text/plain": [
              "<Figure size 640x480 with 1 Axes>"
            ],
            "image/png": "[encoded data removed]"
          },
          "metadata": {}
        }
      ]
    },
    {
      "cell_type": "code",
      "source": [
        "model3 = AutoEncoder()\n",
        "\n",
        "# Batch size of 512 and a learning rate of 1 e-4\n",
        "train_acc, val_acc, train_loss, val_loss, epochs = train(model3, train_loader_512, val_loader_512, num_epochs=40, learning_rate=0.0001)\n",
        "\n",
        "plt.title(\"Training vs Validation Accuracy\")\n",
        "plt.plot(epochs, train_acc, label=\"Train\")\n",
        "plt.plot(epochs, val_acc, label=\"Val\")\n",
        "plt.xlabel(\"Epochs\")\n",
        "plt.ylabel(\"Accuracy\")\n",
        "plt.legend(loc='best')\n",
        "plt.show()\n",
        "\n",
        "plt.title(\"Training vs Validation Loss\")\n",
        "plt.plot(epochs, train_loss, label=\"Train\")\n",
        "plt.plot(epochs, val_loss, label=\"Val\")\n",
        "plt.xlabel(\"Epochs\")\n",
        "plt.ylabel(\"Train Loss\")\n",
        "plt.legend(loc='best')\n",
        "plt.show()"
      ],
      "metadata": {
        "colab": {
          "base_uri": "https://localhost:8080/",
          "height": 1000
        },
        "id": "AmQb8TV-ycYc",
        "outputId": "3657abfc-32ac-4905-ccbe-9f82554b6450"
      },
      "execution_count": 35,
      "outputs": [
        {
          "output_type": "stream",
          "name": "stdout",
          "text": [
            "Epoch: 0, Train Loss: 0.2385, Val Loss: 0.2351, Train Acc: 0.2114, Val Acc: 0.2104\n",
            "Epoch: 1, Train Loss: 0.2310, Val Loss: 0.2260, Train Acc: 0.2083, Val Acc: 0.2065\n",
            "Epoch: 2, Train Loss: 0.2193, Val Loss: 0.2108, Train Acc: 0.2030, Val Acc: 0.2033\n",
            "Epoch: 3, Train Loss: 0.1984, Val Loss: 0.1822, Train Acc: 0.1722, Val Acc: 0.1738\n",
            "Epoch: 4, Train Loss: 0.1606, Val Loss: 0.1360, Train Acc: 0.3168, Val Acc: 0.3155\n",
            "Epoch: 5, Train Loss: 0.1151, Val Loss: 0.0974, Train Acc: 0.3775, Val Acc: 0.3766\n",
            "Epoch: 6, Train Loss: 0.0872, Val Loss: 0.0800, Train Acc: 0.4572, Val Acc: 0.4556\n",
            "Epoch: 7, Train Loss: 0.0767, Val Loss: 0.0747, Train Acc: 0.4572, Val Acc: 0.4556\n",
            "Epoch: 8, Train Loss: 0.0737, Val Loss: 0.0730, Train Acc: 0.4572, Val Acc: 0.4556\n",
            "Epoch: 9, Train Loss: 0.0726, Val Loss: 0.0724, Train Acc: 0.4572, Val Acc: 0.4556\n",
            "Epoch: 10, Train Loss: 0.0721, Val Loss: 0.0720, Train Acc: 0.4572, Val Acc: 0.4556\n",
            "Epoch: 11, Train Loss: 0.0718, Val Loss: 0.0718, Train Acc: 0.4608, Val Acc: 0.4578\n",
            "Epoch: 12, Train Loss: 0.0715, Val Loss: 0.0716, Train Acc: 0.4623, Val Acc: 0.4579\n",
            "Epoch: 13, Train Loss: 0.0714, Val Loss: 0.0714, Train Acc: 0.4591, Val Acc: 0.4563\n",
            "Epoch: 14, Train Loss: 0.0712, Val Loss: 0.0712, Train Acc: 0.4589, Val Acc: 0.4561\n",
            "Epoch: 15, Train Loss: 0.0711, Val Loss: 0.0712, Train Acc: 0.4576, Val Acc: 0.4546\n",
            "Epoch: 16, Train Loss: 0.0710, Val Loss: 0.0711, Train Acc: 0.4570, Val Acc: 0.4540\n",
            "Epoch: 17, Train Loss: 0.0710, Val Loss: 0.0710, Train Acc: 0.4555, Val Acc: 0.4523\n",
            "Epoch: 18, Train Loss: 0.0709, Val Loss: 0.0709, Train Acc: 0.4561, Val Acc: 0.4526\n",
            "Epoch: 19, Train Loss: 0.0708, Val Loss: 0.0709, Train Acc: 0.4566, Val Acc: 0.4533\n",
            "Epoch: 20, Train Loss: 0.0707, Val Loss: 0.0708, Train Acc: 0.4547, Val Acc: 0.4510\n",
            "Epoch: 21, Train Loss: 0.0706, Val Loss: 0.0707, Train Acc: 0.4569, Val Acc: 0.4534\n",
            "Epoch: 22, Train Loss: 0.0706, Val Loss: 0.0707, Train Acc: 0.4556, Val Acc: 0.4525\n",
            "Epoch: 23, Train Loss: 0.0705, Val Loss: 0.0706, Train Acc: 0.4562, Val Acc: 0.4525\n",
            "Epoch: 24, Train Loss: 0.0704, Val Loss: 0.0705, Train Acc: 0.4566, Val Acc: 0.4531\n",
            "Epoch: 25, Train Loss: 0.0703, Val Loss: 0.0704, Train Acc: 0.4572, Val Acc: 0.4535\n",
            "Epoch: 26, Train Loss: 0.0702, Val Loss: 0.0703, Train Acc: 0.4576, Val Acc: 0.4537\n",
            "Epoch: 27, Train Loss: 0.0701, Val Loss: 0.0703, Train Acc: 0.4608, Val Acc: 0.4571\n",
            "Epoch: 28, Train Loss: 0.0701, Val Loss: 0.0700, Train Acc: 0.4629, Val Acc: 0.4586\n",
            "Epoch: 29, Train Loss: 0.0699, Val Loss: 0.0700, Train Acc: 0.4633, Val Acc: 0.4590\n",
            "Epoch: 30, Train Loss: 0.0698, Val Loss: 0.0698, Train Acc: 0.4640, Val Acc: 0.4595\n",
            "Epoch: 31, Train Loss: 0.0697, Val Loss: 0.0697, Train Acc: 0.4646, Val Acc: 0.4602\n",
            "Epoch: 32, Train Loss: 0.0695, Val Loss: 0.0695, Train Acc: 0.4643, Val Acc: 0.4598\n",
            "Epoch: 33, Train Loss: 0.0692, Val Loss: 0.0693, Train Acc: 0.4637, Val Acc: 0.4599\n",
            "Epoch: 34, Train Loss: 0.0690, Val Loss: 0.0689, Train Acc: 0.4646, Val Acc: 0.4607\n",
            "Epoch: 35, Train Loss: 0.0686, Val Loss: 0.0686, Train Acc: 0.4643, Val Acc: 0.4607\n",
            "Epoch: 36, Train Loss: 0.0682, Val Loss: 0.0684, Train Acc: 0.4643, Val Acc: 0.4608\n",
            "Epoch: 37, Train Loss: 0.0674, Val Loss: 0.0669, Train Acc: 0.4671, Val Acc: 0.4631\n",
            "Epoch: 38, Train Loss: 0.0663, Val Loss: 0.0661, Train Acc: 0.4788, Val Acc: 0.4740\n",
            "Epoch: 39, Train Loss: 0.0645, Val Loss: 0.0636, Train Acc: 0.4914, Val Acc: 0.4855\n"
          ]
        },
        {
          "output_type": "display_data",
          "data": {
            "text/plain": [
              "<Figure size 640x480 with 1 Axes>"
            ],
            "image/png": "[encoded data removed]"
          },
          "metadata": {}
        },
        {
          "output_type": "display_data",
          "data": {
            "text/plain": [
              "<Figure size 640x480 with 1 Axes>"
            ],
            "image/png": "[encoded data removed]"
          },
          "metadata": {}
        }
      ]
    },
    {
      "cell_type": "markdown",
      "metadata": {
        "id": "ymCsZH291prI"
      },
      "source": [
        "## Part 4. Testing [12 pt]\n",
        "\n",
        "### Part (a) [2 pt]\n",
        "\n",
        "Compute and report the test accuracy."
      ]
    },
    {
      "cell_type": "code",
      "execution_count": 38,
      "metadata": {
        "collapsed": true,
        "id": "0OkSbup91prJ",
        "colab": {
          "base_uri": "https://localhost:8080/"
        },
        "outputId": "39ad3391-20ce-438f-ba4b-26e8350a277b"
      },
      "outputs": [
        {
          "output_type": "stream",
          "name": "stdout",
          "text": [
            "0.5978009259259259\n"
          ]
        }
      ],
      "source": [
        "# The chosen model is 'model2' because it has the highest validation accuracy and lowest validation loss\n",
        "print(get_accuracy(model2, test_loader))"
      ]
    },
    {
      "cell_type": "markdown",
      "metadata": {
        "id": "UEe9yt6L1prM"
      },
      "source": [
        "### Part (b) [4 pt]\n",
        "\n",
        "Based on the test accuracy alone, it is difficult to assess whether our model\n",
        "is actually performing well. We don't know whether a high accuracy is due to\n",
        "the simplicity of the problem, or if a poor accuracy is a result of the inherent\n",
        "difficulty of the problem.\n",
        "\n",
        "It is therefore very important to be able to compare our model to at least one\n",
        "alternative. In particular, we consider a simple **baseline**\n",
        "model that is not very computationally expensive. Our neural network\n",
        "should at least outperform this baseline model. If our network is not much\n",
        "better than the baseline, then it is not doing well.\n",
        "\n",
        "For our data imputation problem, consider the following baseline model:\n",
        "to predict a missing feature, the baseline model will look at the **most common value** of the feature in the training set.\n",
        "\n",
        "For example, if the feature \"marriage\" is missing, then this model's prediction will be the most common value for \"marriage\" in the training set, which happens to be \"Married-civ-spouse\".\n",
        "\n",
        "What would be the test accuracy of this baseline model?\n"
      ]
    },
    {
      "cell_type": "code",
      "source": [
        "baseline = {}\n",
        "for col in df_not_missing:\n",
        "    baseline[col] = df[col].value_counts().idxmax()"
      ],
      "metadata": {
        "id": "mDuNM0fct5vO"
      },
      "execution_count": 16,
      "outputs": []
    },
    {
      "cell_type": "code",
      "source": [
        "baseline_acc = sum(df_not_missing[\"marriage\"] == baseline[\"marriage\"])/len(df_not_missing)\n",
        "print(\"The test accuracy of this baseline model for the marriage feature is\", round(baseline_acc*100,3), \"%\")"
      ],
      "metadata": {
        "colab": {
          "base_uri": "https://localhost:8080/"
        },
        "id": "PKG_MF3yt8h7",
        "outputId": "2eb7fde1-fd58-49d9-d05c-fa35859a35c6"
      },
      "execution_count": 18,
      "outputs": [
        {
          "output_type": "stream",
          "name": "stdout",
          "text": [
            "The test accuracy of this baseline model for the marriage feature is 46.679 %\n"
          ]
        }
      ]
    },
    {
      "cell_type": "markdown",
      "metadata": {
        "id": "QlHu0wxh1prP"
      },
      "source": [
        "### Part (c) [1 pt]\n",
        "\n",
        "How does your test accuracy from part (a) compared to your basline test accuracy in part (b)?"
      ]
    },
    {
      "cell_type": "markdown",
      "source": [
        "The model test accuracy is 0.646 whereas the baseline model test accuracy is 0.477. Because our autoencoder outperforms the baseline, we can conclude that our model is producing significant predictions that are helpful."
      ],
      "metadata": {
        "id": "Ajdl-HuexmVD"
      }
    },
    {
      "cell_type": "markdown",
      "metadata": {
        "id": "DfQPgu1Q1prS"
      },
      "source": [
        "### Part (d) [1 pt]\n",
        "\n",
        "Look at the first item in your test data.\n",
        "Do you think it is reasonable for a human\n",
        "to be able to guess this person's education level\n",
        "based on their other features? Explain."
      ]
    },
    {
      "cell_type": "code",
      "execution_count": 60,
      "metadata": {
        "id": "3qbQ1vvT1prT",
        "colab": {
          "base_uri": "https://localhost:8080/"
        },
        "outputId": "8c25f3ec-4738-4fb2-8664-5771e13a9946"
      },
      "outputs": [
        {
          "output_type": "stream",
          "name": "stdout",
          "text": [
            "The features of the first person in the test set is: \n",
            "Feature: work  ->  Private\n",
            "Feature: marriage  ->  Divorced\n",
            "Feature: occupation  ->  Tech-support\n",
            "Feature: edu  ->  HS-grad\n",
            "Feature: relationship  ->  Own-child\n",
            "Feature: sex  ->  Female\n"
          ]
        }
      ],
      "source": [
        "print(\"The features of the first person in the test set is: \")\n",
        "for c in catcols:\n",
        "  print(\"Feature:\", c ,\" -> \", get_categorical_value(get_onehot(test_set[0], c),c))"
      ]
    },
    {
      "cell_type": "markdown",
      "source": [
        "Given the that the occupation is tech-support, it is reasonable for a human to guess that this person's highest education level is high school."
      ],
      "metadata": {
        "id": "wsS2vs7Gz045"
      }
    },
    {
      "cell_type": "markdown",
      "metadata": {
        "id": "p_d5uuAY1prZ"
      },
      "source": [
        "### Part (e) [2 pt]\n",
        "\n",
        "What is your model's prediction of this person's education\n",
        "level, given their other features?\n"
      ]
    },
    {
      "cell_type": "code",
      "source": [
        "def zero_out_feature_mod(record, feature):\n",
        "    \"\"\" Set the feature missing in record, by setting the appropriate\n",
        "    columns of records to 0\n",
        "    \"\"\"\n",
        "    start_index = cat_index[feature]\n",
        "    stop_index = cat_index[feature] + len(cat_values[feature])\n",
        "    for i in range(stop_index - start_index):\n",
        "      record[start_index + i] = 0\n",
        "    return record\n",
        "\n",
        "test_input = torch.from_numpy(zero_out_feature_mod(test_set[0], \"edu\"))\n",
        "\n",
        "pred = model(test_input)\n",
        "\n",
        "result = pred.detach().numpy()\n",
        "\n",
        "for col in catcols:\n",
        "  print(col + \": \" + get_categorical_value(get_onehot(result, col), col))"
      ],
      "metadata": {
        "colab": {
          "base_uri": "https://localhost:8080/"
        },
        "id": "KuVyWbfI44w2",
        "outputId": "3975264a-ba86-4422-d2d6-2c0722f13ea9"
      },
      "execution_count": 61,
      "outputs": [
        {
          "output_type": "stream",
          "name": "stdout",
          "text": [
            "work: Private\n",
            "marriage: Never-married\n",
            "occupation: Other-service\n",
            "edu: HS-grad\n",
            "relationship: Unmarried\n",
            "sex: Female\n"
          ]
        }
      ]
    },
    {
      "cell_type": "code",
      "source": [
        "test_edu = torch.from_numpy(zero_out_feature(test_set[:1], \"edu\")[0])\n",
        "prediction = model(test_edu)\n",
        "get_feature(predict.detach().numpy(), \"edu\")"
      ],
      "metadata": {
        "colab": {
          "base_uri": "https://localhost:8080/",
          "height": 35
        },
        "id": "EC7-eXM4x9PN",
        "outputId": "06d226c6-bba3-4468-d435-2d0821166422"
      },
      "execution_count": 63,
      "outputs": [
        {
          "output_type": "execute_result",
          "data": {
            "text/plain": [
              "'HS-grad'"
            ],
            "application/vnd.google.colaboratory.intrinsic+json": {
              "type": "string"
            }
          },
          "metadata": {},
          "execution_count": 63
        }
      ]
    },
    {
      "cell_type": "markdown",
      "metadata": {
        "id": "fdLNA0ce1prd"
      },
      "source": [
        "### Part (f) [2 pt]\n",
        "\n",
        "What is the baseline model's prediction\n",
        "of this person's education level?"
      ]
    },
    {
      "cell_type": "code",
      "source": [
        "baseline[\"edu\"]"
      ],
      "metadata": {
        "colab": {
          "base_uri": "https://localhost:8080/",
          "height": 35
        },
        "id": "YsIJtLE17yLO",
        "outputId": "75ef708b-8fe5-48a4-af76-0bf797f6b250"
      },
      "execution_count": 62,
      "outputs": [
        {
          "output_type": "execute_result",
          "data": {
            "text/plain": [
              "' HS-grad'"
            ],
            "application/vnd.google.colaboratory.intrinsic+json": {
              "type": "string"
            }
          },
          "metadata": {},
          "execution_count": 62
        }
      ]
    }
  ],
  "metadata": {
    "accelerator": "GPU",
    "colab": {
      "gpuType": "T4",
      "toc_visible": true,
      "provenance": [],
      "include_colab_link": true
    },
    "kernelspec": {
      "display_name": "Python 3",
      "name": "python3"
    },
    "language_info": {
      "codemirror_mode": {
        "name": "ipython",
        "version": 3
      },
      "file_extension": ".py",
      "mimetype": "text/x-python",
      "name": "python",
      "nbconvert_exporter": "python",
      "pygments_lexer": "ipython3",
      "version": "3.9.4"
    }
  },
  "nbformat": 4,
  "nbformat_minor": 0
}