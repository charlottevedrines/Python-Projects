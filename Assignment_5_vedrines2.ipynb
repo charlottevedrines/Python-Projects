{
  "nbformat": 4,
  "nbformat_minor": 0,
  "metadata": {
    "colab": {
      "provenance": [],
      "include_colab_link": true
    },
    "kernelspec": {
      "name": "python3",
      "display_name": "Python 3"
    },
    "language_info": {
      "name": "python"
    }
  },
  "cells": [
    {
      "cell_type": "markdown",
      "metadata": {
        "id": "view-in-github",
        "colab_type": "text"
      },
      "source": [
        "<a href=\"https://colab.research.google.com/github/charlottevedrines/Python-Projects/blob/main/Assignment_5_vedrines2.ipynb\" target=\"_parent\"><img src=\"https://colab.research.google.com/assets/colab-badge.svg\" alt=\"Open In Colab\"/></a>"
      ]
    },
    {
      "cell_type": "markdown",
      "source": [
        "# **Q1**"
      ],
      "metadata": {
        "id": "GQ4rKp-qRvjb"
      }
    },
    {
      "cell_type": "markdown",
      "source": [
        "Explain some causes that would make the control chart pattern follow an increasing trend. What are some reasons for a process to go out of control due to a sudden shift in the level?"
      ],
      "metadata": {
        "id": "ji69dCYORxOl"
      }
    },
    {
      "cell_type": "markdown",
      "source": [
        "Some causes that would cause the control pattern to follow an increasing trend could be worker fatigue, equipment wear or deterioration.\n",
        "\n",
        "Some reasons for a process to go out of control are a sudden equipment failure, a shift in process setting or a change in raw material quality."
      ],
      "metadata": {
        "id": "aR7xDwUkYHbX"
      }
    },
    {
      "cell_type": "markdown",
      "source": [
        "# **Q2**"
      ],
      "metadata": {
        "id": "HD9jwyuER1dS"
      }
    },
    {
      "cell_type": "markdown",
      "source": [
        "The time to be seated at a popular restaurant is of importance. Samples of ﬁve randomly selected customers are chosen and their average and range (in minutes) are calculated. After 30 such samples, the summary data values are\n",
        "\n",
        "$\\sum_{i=1}^{30} \\bar{X}_i = 306$ ,  $\\sum_{i=1}^{30} {R}_i = 24$\n",
        "\n",
        "2.1) Find the $\\bar{X}$ and R-chart control limits\n",
        "\n",
        "2.2) Find the 1σ and 2σ $\\bar{X}$-chart limits\n",
        "\n",
        "2.3) The manager has found that customers usually leave if they are informed of anestimated waiting time of over 10.5 minutes. What fraction of customers will thisrestaurant lose? Assume a normal distribution of waiting times."
      ],
      "metadata": {
        "id": "N60rSAwFR4C2"
      }
    },
    {
      "cell_type": "code",
      "source": [
        "import numpy as np\n",
        "from scipy.stats import norm\n",
        "\n",
        "# 2.1\n",
        "x_bar_bar = 306/30\n",
        "R_bar = 24/30\n",
        "\n",
        "# for a sample size of 5\n",
        "A2 = 0.577\n",
        "D3 = 0\n",
        "D4 = 2.114\n",
        "\n",
        "UCL_xbar = x_bar_bar + (R_bar * A2)\n",
        "LCL_xbar = x_bar_bar - (R_bar * A2)\n",
        "CL_xbar = x_bar_bar\n",
        "print(\"The upper control limit of the X bar chart is\" , round(UCL_xbar,3) , \"minutes the lower control limit of the X bar chart is\", round(LCL_xbar,3), \"minutes.\" )\n",
        "print(\"The center line of the X bar chart is\", x_bar_bar, \"minutes.\")\n",
        "print(\"\")\n",
        "\n",
        "UCL_R = R_bar * D4\n",
        "LCL_R = R_bar * D3\n",
        "print(\"The upper control limit of the R-chart is\" ,round(UCL_R,3) , \"minutes the lower control limit of the R-chart\", round(LCL_R,3),\"minutes.\" )\n",
        "print(\"The center line of the R-chart is\", R_bar, \"minutes.\")\n",
        "print(\"\")\n",
        "\n",
        "\n",
        "# 2.2\n",
        "d2 = 2.326 # for a sample size of 5\n",
        "\n",
        "# For 1σ X bar chart limits\n",
        "UCL_xbar = x_bar_bar + (R_bar * 1/(np.sqrt(5)*d2) ) # assuming 5 is the sample size\n",
        "LCL_xbar = x_bar_bar - (R_bar * 1/(np.sqrt(5)*d2))\n",
        "print(\"The 1σ X bar UCL is\", round(UCL_xbar,3),\"minutes and the LCL is\", round(LCL_xbar,3), \"minutes.\" )\n",
        "print(\"\")\n",
        "# For 2σ X bar chart limits\n",
        "UCL_xbar = x_bar_bar + (R_bar * 2/(np.sqrt(5)*d2) ) # assuming 5 is the sample size\n",
        "LCL_xbar = x_bar_bar - (R_bar * 2/(np.sqrt(5)*d2))\n",
        "print(\"The 2σ X bar UCL is\", round(UCL_xbar,3),\"minutes and the LCL is\", round(LCL_xbar,3), \"minutes.\" )\n",
        "\n",
        "\n",
        "# 2.3: probability that a customer will wait more than 10.5 minutes P(X > 10.5) = 1 - P(X < 10.5) = 1 - (10.5 - Xbarbar)/Sbar\n",
        "sigma_pop = R_bar/d2\n",
        "\n",
        "p = 1 - norm.cdf( (10.5-x_bar_bar)/ sigma_pop)\n",
        "print(\"\")\n",
        "print(\"The fraction of customers this restaurant will lose is\", round(p,3),\".\")\n",
        "\n"
      ],
      "metadata": {
        "colab": {
          "base_uri": "https://localhost:8080/",
          "height": 0
        },
        "id": "Q3vOEMleIGHY",
        "outputId": "835b0c5c-5832-4f96-a2c6-f22e99a560e7"
      },
      "execution_count": 1,
      "outputs": [
        {
          "output_type": "stream",
          "name": "stdout",
          "text": [
            "The upper control limit of the X bar chart is 10.662 minutes the lower control limit of the X bar chart is 9.738 minutes.\n",
            "The center line of the X bar chart is 10.2 minutes.\n",
            "\n",
            "The upper control limit of the R-chart is 1.691 minutes the lower control limit of the R-chart 0.0 minutes.\n",
            "The center line of the R-chart is 0.8 minutes.\n",
            "\n",
            "The 1σ X bar UCL is 10.354 minutes and the LCL is 10.046 minutes.\n",
            "\n",
            "The 2σ X bar UCL is 10.508 minutes and the LCL is 9.892 minutes.\n",
            "\n",
            "The fraction of customers this restaurant will lose is 0.192 .\n"
          ]
        }
      ]
    },
    {
      "cell_type": "markdown",
      "source": [
        "# **Q3**"
      ],
      "metadata": {
        "id": "SZ9-Kt5YU6Kc"
      }
    },
    {
      "cell_type": "markdown",
      "source": [
        "Light bulbs are tested for their luminance, with the intensity of brightness desired to bewithin a certain range. Random samples of ﬁve bulbs are chosen from the output, andthe luminance is measured. The sample meanX and the standard deviation s arefound. After 30 samples, the following summary information is obtained:\n",
        "\n",
        "$\\sum_{i=1}^{30} \\bar{X}_i = 2550$ ,  $\\sum_{i=1}^{30} {s}_i = 195$\n",
        "\n",
        "The speciﬁcations are 90 ± 15 lumens.\n",
        "\n",
        "3.1) Find the control limits for the $\\bar{X}$- and s-charts.\n",
        "\n",
        "3.2) Assuming that the process is in control, estimate the process mean and process standard deviation\n",
        "\n",
        "3.3)Comment on the ability of the process to meet speciﬁcations. What proportion of the output is nonconforming?\n",
        "\n",
        "3.4) If the process mean is moved to 90 lumens, what proportion of output will be nonconforming? What suggestions would you make to improve the performance of the process?"
      ],
      "metadata": {
        "id": "Wc4I-QWLWJQd"
      }
    },
    {
      "cell_type": "code",
      "source": [
        "x_bar_bar = 2550/30\n",
        "A3 = 1.427\n",
        "s_bar = 195/30\n",
        "c4 = 0.9400\n",
        "\n",
        "# 3.1\n",
        "UCL_xbar = x_bar_bar + 1.427*s_bar\n",
        "LCL_xbar = x_bar_bar - 1.427*s_bar\n",
        "print(\"The upper control limit of the X bar chart is\" , round(UCL_xbar,3) , \"minutes the lower control limit of the X bar chart is\", round(LCL_xbar,3), \"minutes.\" )\n",
        "print(\"The center line of the X bar chart is\", x_bar_bar, \"minutes.\")\n",
        "print(\"\")\n",
        "\n",
        "# 3.2\n",
        "sigma_pop = s_bar/c4\n",
        "print(\"The process mean is\", x_bar_bar)\n",
        "print(\"The process standard deviation is\", round(sigma_pop, 3))\n",
        "print(\"\")\n",
        "\n",
        "# 3.3\n",
        "print(\"For a process to meet specification, the luminance of the light bulb would have to be between\", 90-15, \"and\", 90+15)\n",
        "# probability that an output in non conforming P(X < 75) or P(X > 105).\n",
        "p_non_conforming = norm.cdf( (75 - x_bar_bar)/ sigma_pop) + (1 - norm.cdf( (105 - x_bar_bar)/ sigma_pop))\n",
        "print(\"The proportion of nonconforming outputs are\", round(p_non_conforming,4))\n",
        "print(\"\")\n",
        "\n",
        "# 3.4\n",
        "new_mean = 90\n",
        "p_non_conforming = norm.cdf( (75 - new_mean)/ sigma_pop) + (1 - norm.cdf( (105 - new_mean)/ sigma_pop))\n",
        "print(\"The proportion of nonconforming outputs are\", round(p_non_conforming,4))\n",
        "\n",
        "# Suggestions to improve the performance of the process would be reducing the process variability, continously monitoring the X bar chart and the standard deviation\n",
        "  # chart to ensure that all the samples remain in control and adjust the process mean if needed.\n",
        "\n"
      ],
      "metadata": {
        "colab": {
          "base_uri": "https://localhost:8080/",
          "height": 0
        },
        "id": "X3Y-Y2-LPifl",
        "outputId": "392f15b6-2a1c-4f0e-e34f-825f5f5b7f3f"
      },
      "execution_count": 2,
      "outputs": [
        {
          "output_type": "stream",
          "name": "stdout",
          "text": [
            "The upper control limit of the X bar chart is 94.275 minutes the lower control limit of the X bar chart is 75.725 minutes.\n",
            "The center line of the X bar chart is 85.0 minutes.\n",
            "\n",
            "The process mean is 85.0\n",
            "The process standard deviation is 6.915\n",
            "\n",
            "For a process to meet specification, the luminance of the light bulb would have to be between 75 and 105\n",
            "The proportion of nonconforming outputs are 0.076\n",
            "\n",
            "The proportion of nonconforming outputs are 0.0301\n"
          ]
        }
      ]
    },
    {
      "cell_type": "markdown",
      "source": [
        "# **Q4**"
      ],
      "metadata": {
        "id": "IdUY6m4TlqA6"
      }
    },
    {
      "cell_type": "markdown",
      "source": [
        "Which type of control chart (p, np, c chart) is most appropriate to monitor the following situations?\n",
        "\n",
        "4.1) Percentage of Defective Parts in Manufacturing. Answer: p chart because it monitors the percentage of non conforming items in a process over time.\n",
        "\n",
        "4.2) Number of Customer Complaints per Week: Answer: c chart because it follows the Poisson distribution meaning that the c chart monitors the number of defects (the number of customer complaints) within a time interval (a week).\n",
        "\n",
        "4.3) Percentage of On-Time Deliveries for a Logistics Company: p part\n",
        "\n",
        "4.4) Number of Defective Items in a Sample Inspection: np chart because it monitors the number of defective items in a sample."
      ],
      "metadata": {
        "id": "7WEiVZNilr0J"
      }
    },
    {
      "cell_type": "markdown",
      "source": [
        "# **Q5**"
      ],
      "metadata": {
        "id": "uSkA0c_Un-oV"
      }
    },
    {
      "cell_type": "markdown",
      "source": [
        "A manufacturing company produces bolts, and the quality control team wants to monitor the defect rate of the bolt production process. The company decides to implement a p-chart to track the number of defective bolts in samples of 200 bolts each day over a period of 20 days. The acceptable defect rate is 3%.\n",
        "\n",
        "The number of defective bolts found in each daily sample over 20 days is as follows:"
      ],
      "metadata": {
        "id": "TCbv3TBw1wYJ"
      }
    },
    {
      "cell_type": "code",
      "source": [
        "defective_bolts = [5, 7, 3, 4, 6, 8, 9, 4, 5, 6, 3, 6, 7, 5, 4, 8, 6, 3, 5, 7]"
      ],
      "metadata": {
        "id": "JiaSCwBC12bw"
      },
      "execution_count": 3,
      "outputs": []
    },
    {
      "cell_type": "markdown",
      "source": [
        "Use a p-chart to determine if the bolt production process is in control or if there are any patterns indicating special causes of variation."
      ],
      "metadata": {
        "id": "TQtI30PG15AT"
      }
    },
    {
      "cell_type": "code",
      "source": [
        "import numpy as np\n",
        "import matplotlib.pyplot as plt\n",
        "\n",
        "p = []\n",
        "\n",
        "for i in range(len(defective_bolts)):\n",
        "  p.append(defective_bolts[i]/200)\n",
        "\n",
        "p_bar = sum(p)/20\n",
        "UCL_p = p_bar + 3*np.sqrt(p_bar*(1-p_bar)/200)\n",
        "LCL_p = np.maximum(0, p_bar - 3*np.sqrt(p_bar*(1-p_bar)/200))\n",
        "\n",
        "\n",
        "plt.plot(p, marker = 'o')\n",
        "plt.axhline(p_bar, label='CL')\n",
        "plt.axhline(UCL_p, color='g', linestyle='--', label='UCL')\n",
        "plt.axhline(LCL_p, color='g', linestyle='--', label='LCL')\n",
        "plt.title('p-Chart')\n",
        "plt.xlabel('Sample')\n",
        "plt.ylabel('Proportion nonconforming')\n",
        "plt.legend()\n"
      ],
      "metadata": {
        "colab": {
          "base_uri": "https://localhost:8080/",
          "height": 490
        },
        "id": "e_O9UbHna0bz",
        "outputId": "a8e38a81-a574-47f1-db96-261e1f68cb48"
      },
      "execution_count": 4,
      "outputs": [
        {
          "output_type": "execute_result",
          "data": {
            "text/plain": [
              "<matplotlib.legend.Legend at 0x7b6f84ccf910>"
            ]
          },
          "metadata": {},
          "execution_count": 4
        },
        {
          "output_type": "display_data",
          "data": {
            "text/plain": [
              "<Figure size 640x480 with 1 Axes>"
            ],
            "image/png": "[encoded data removed]"
          },
          "metadata": {}
        }
      ]
    }
  ]
}